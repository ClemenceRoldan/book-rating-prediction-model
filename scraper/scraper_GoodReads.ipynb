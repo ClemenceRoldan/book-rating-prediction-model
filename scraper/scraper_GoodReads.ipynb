{
 "cells": [
  {
   "cell_type": "code",
   "execution_count": null,
   "metadata": {},
   "outputs": [],
   "source": [
    "# import necessary libraries\n",
    "from scraper import *\n",
    "import pandas as pd"
   ]
  },
  {
   "cell_type": "code",
   "execution_count": null,
   "metadata": {},
   "outputs": [],
   "source": [
    "# connect to driver\n",
    "creds_path = \"../private/credentials.yaml\"\n",
    "connect_driver()\n",
    "login(creds_path)"
   ]
  },
  {
   "cell_type": "code",
   "execution_count": null,
   "metadata": {},
   "outputs": [],
   "source": [
    "# get_publisher_pagesFormat_firstPublished(1467)"
   ]
  },
  {
   "cell_type": "code",
   "execution_count": null,
   "metadata": {},
   "outputs": [],
   "source": [
    "# get data\n",
    "file_path = \"../books_updated.csv\"\n",
    "df = pd.read_csv(file_path)"
   ]
  },
  {
   "cell_type": "code",
   "execution_count": null,
   "metadata": {},
   "outputs": [],
   "source": [
    "\n",
    "df.info()"
   ]
  },
  {
   "cell_type": "code",
   "execution_count": null,
   "metadata": {},
   "outputs": [],
   "source": [
    "# start scraping on all the data\n",
    "try: \n",
    "    new_df = scrape_by_dfIDs(df)\n",
    "except:\n",
    "    driver_quit()\n",
    "    time.sleep(30)\n",
    "    connect_driver()\n",
    "    login()\n",
    "    new_df = scrape_by_dfIDs(df)\n"
   ]
  },
  {
   "cell_type": "code",
   "execution_count": null,
   "metadata": {},
   "outputs": [],
   "source": [
    "# get the scraped data\n",
    "df_scraped = pd.read_csv(\"booksRating_extraFeats.csv\")"
   ]
  },
  {
   "cell_type": "code",
   "execution_count": null,
   "metadata": {},
   "outputs": [],
   "source": [
    "df_scraped.head()"
   ]
  },
  {
   "cell_type": "code",
   "execution_count": null,
   "metadata": {},
   "outputs": [],
   "source": [
    "df_scraped.info()"
   ]
  },
  {
   "cell_type": "code",
   "execution_count": null,
   "metadata": {},
   "outputs": [],
   "source": [
    "# retry scraping sections that were filled with nan due to unexpected exceptions/errors or failure to connect to page\n",
    "for index, row in df_scraped.iterrows():\n",
    "    \n",
    "    if pd.isna(row[\"edition_avgRating\"]): \n",
    "        print(\"In 1\")\n",
    "        avgR_shelvesA = get_avgRating_shelvesAdded(row['bookID'])\n",
    "        \n",
    "        df_scraped.at[index, \"edition_avgRating\"] = avgR_shelvesA[\"avg_rating\"]\n",
    "        df_scraped.at[index, \"added_toShelves\"] = avgR_shelvesA[\"added_to_shelves\"]\n",
    "        \n",
    "        print(avgR_shelvesA)\n",
    "        print(df_scraped.iloc[index])\n",
    "        time.sleep(3)\n",
    "\n",
    "    if pd.isna(row[\"book_format\"]):\n",
    "        print(\"In 2\")\n",
    "        pub_pagesF_firstP = get_publisher_pagesFormat_firstPublished(row['bookID'])\n",
    "        \n",
    "        print(pub_pagesF_firstP)\n",
    "        df_scraped.at[index, \"new_publisher\"] = pub_pagesF_firstP[\"publisher\"]\n",
    "        df_scraped.at[index, \"first_published\"] = pub_pagesF_firstP[\"first_published\"]\n",
    "        df_scraped.at[index, \"book_format\"] = pub_pagesF_firstP[\"page_format\"]\n",
    "    \n",
    "        print(df_scraped.iloc[index])\n",
    "        time.sleep(2)\n",
    "        \n",
    "    df_scraped.to_csv(\"booksRating_extraFeats.csv\", index=False)\n"
   ]
  },
  {
   "cell_type": "code",
   "execution_count": null,
   "metadata": {},
   "outputs": [],
   "source": [
    "df_scraped.info()"
   ]
  }
 ],
 "metadata": {
  "kernelspec": {
   "display_name": "book-rating_prediction",
   "language": "python",
   "name": "python3"
  },
  "language_info": {
   "codemirror_mode": {
    "name": "ipython",
    "version": 3
   },
   "file_extension": ".py",
   "mimetype": "text/x-python",
   "name": "python",
   "nbconvert_exporter": "python",
   "pygments_lexer": "ipython3",
   "version": "3.10.13"
  }
 },
 "nbformat": 4,
 "nbformat_minor": 2
}
