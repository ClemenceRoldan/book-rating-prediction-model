{
 "cells": [
  {
   "cell_type": "markdown",
   "metadata": {},
   "source": [
    "--- Kheirie --- \n",
    "\n",
    "Trying scraper here; work in progress"
   ]
  },
  {
   "cell_type": "code",
   "execution_count": null,
   "metadata": {},
   "outputs": [],
   "source": [
    "from scraper import *\n",
    "import pandas as pd\n",
    "\n",
    "creds_path = \"../private/credentials.yaml\""
   ]
  },
  {
   "cell_type": "code",
   "execution_count": null,
   "metadata": {},
   "outputs": [],
   "source": [
    "connect_driver()\n",
    "login(creds_path)"
   ]
  },
  {
   "cell_type": "code",
   "execution_count": null,
   "metadata": {},
   "outputs": [],
   "source": [
    "get_publisher_pagesFormat_firstPublished(1467)"
   ]
  },
  {
   "cell_type": "code",
   "execution_count": null,
   "metadata": {},
   "outputs": [],
   "source": [
    "file_path = \"../books_updated.csv\"\n",
    "df = pd.read_csv(file_path)"
   ]
  },
  {
   "cell_type": "code",
   "execution_count": null,
   "metadata": {},
   "outputs": [],
   "source": [
    "df.info()"
   ]
  },
  {
   "cell_type": "code",
   "execution_count": null,
   "metadata": {},
   "outputs": [],
   "source": [
    "### Kheirie ###\n",
    "# Remove the space before the column num_pages, for ease of use\n",
    "df.rename(columns={'  num_pages': '  num_pages'.replace(' ', '')}, inplace=True)\n",
    "df.columns"
   ]
  },
  {
   "cell_type": "code",
   "execution_count": null,
   "metadata": {},
   "outputs": [],
   "source": [
    "### Kheirie ###\n",
    "# investigate if their are non-numerical non-date types in supposedly numerical and date columns\n",
    "\n",
    "# text_reviews_count \n",
    "# Filter the DataFrame to get non-numerical values in the specified column\n",
    "def check_non_numerical_date(columns_list: list, intended_type: str):\n",
    "    \n",
    "    if intended_type == \"numerical\":\n",
    "        for column in columns_list:\n",
    "            non_numerical_values = df.loc[~df[column].apply(pd.to_numeric, errors='coerce').notna()]\n",
    "            print(\"The non_numerical_values in column {} : \".format(column), non_numerical_values[column])\n",
    "\n",
    "    elif intended_type == \"date\":\n",
    "        for column in columns_list:\n",
    "            non_numerical_values = df.loc[~df[column].apply(pd.to_datetime, errors='coerce').notna()]\n",
    "            print(\"The non_date_values in column {} : \".format(column), non_numerical_values[column])\n",
    "    \n",
    "# Display the non-numerical and non_date values of the selected columns\n",
    "columns = [\"isbn\", \"isbn13\", \"text_reviews_count\"]\n",
    "check_non_numerical_date(columns, \"numerical\")\n",
    "check_non_numerical_date([\"publication_date\"], \"date\")"
   ]
  },
  {
   "cell_type": "code",
   "execution_count": null,
   "metadata": {},
   "outputs": [],
   "source": [
    "### Kheirie ###\n",
    "df.iloc[1847]"
   ]
  },
  {
   "cell_type": "code",
   "execution_count": null,
   "metadata": {},
   "outputs": [],
   "source": [
    "### Kheirie ###\n",
    "# Split 'bookID' by \"/\" to create a list containing bookID and title content\n",
    "bookid_title = df[\"bookID\"].iloc[1847].split('/')\n",
    "\n",
    "\n",
    "# content of the remaining columns\n",
    "remaining_columns = df[['title', 'authors', 'average_rating', 'isbn', 'isbn13',\n",
    "                                   'language_code', 'num_pages', 'ratings_count', \n",
    "                                   'text_reviews_count', 'publication_date']].iloc[1847]\n",
    "\n",
    "\n",
    "# rearrange cells content for each column\n",
    "df.iloc[1847, 2:] = remaining_columns\n",
    "df[\"bookID\"].iloc[1847]= bookid_title[0]\n",
    "df[\"title\"].iloc[1847]= bookid_title[1]\n"
   ]
  },
  {
   "cell_type": "code",
   "execution_count": null,
   "metadata": {},
   "outputs": [],
   "source": [
    "### Kheirie ###\n",
    "# rechek the content \n",
    "df.iloc[1847]"
   ]
  },
  {
   "cell_type": "code",
   "execution_count": null,
   "metadata": {},
   "outputs": [],
   "source": [
    "### Kheirie ###\n",
    "# re-investigate if there is non-numerical content in supposedly numerical columns\n",
    "columns = [\"average_rating\", \"isbn13\", \"text_reviews_count\", \"num_pages\", \"ratings_count\", \"text_reviews_count\"]\n",
    "check_non_numerical_date(columns, \"numerical\")"
   ]
  },
  {
   "cell_type": "code",
   "execution_count": null,
   "metadata": {},
   "outputs": [],
   "source": [
    "### Kheirie ### \n",
    "# fix the dates by replacing 31 with 30 in June and November\n",
    "# convert the date column to type pd.datetime\n",
    "df[\"publication_date\"].iloc[8180] = '11/30/2000'\n",
    "df[\"publication_date\"].iloc[11098] = '6/30/1982'\n",
    "df['publication_date'] = pd.to_datetime(df['publication_date'], format='%m/%d/%Y', utc=False)"
   ]
  },
  {
   "cell_type": "code",
   "execution_count": null,
   "metadata": {},
   "outputs": [],
   "source": [
    "df.info()"
   ]
  },
  {
   "cell_type": "code",
   "execution_count": null,
   "metadata": {},
   "outputs": [],
   "source": [
    "new_df = scrape_by_dfIDs(df)"
   ]
  }
 ],
 "metadata": {
  "kernelspec": {
   "display_name": "book-rating_prediction",
   "language": "python",
   "name": "python3"
  },
  "language_info": {
   "codemirror_mode": {
    "name": "ipython",
    "version": 3
   },
   "file_extension": ".py",
   "mimetype": "text/x-python",
   "name": "python",
   "nbconvert_exporter": "python",
   "pygments_lexer": "ipython3",
   "version": "3.10.13"
  }
 },
 "nbformat": 4,
 "nbformat_minor": 2
}
