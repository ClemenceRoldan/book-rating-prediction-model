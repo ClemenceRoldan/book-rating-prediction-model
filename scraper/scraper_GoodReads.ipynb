{
 "cells": [
  {
   "cell_type": "markdown",
   "metadata": {},
   "source": [
    "--- Kheirie --- \n",
    "\n",
    "Trying scraper here; work in progress"
   ]
  },
  {
   "cell_type": "code",
   "execution_count": 1,
   "metadata": {},
   "outputs": [],
   "source": [
    "from scraper import *\n",
    "import pandas as pd\n",
    "\n",
    "creds_path = \"../private/credentials.yaml\""
   ]
  },
  {
   "cell_type": "code",
   "execution_count": 3,
   "metadata": {},
   "outputs": [
    {
     "name": "stdout",
     "output_type": "stream",
     "text": [
      "Setting Driver ...> OK\n",
      "Getting Page : https://www.goodreads.com/ap/signin?language=en_US&openid.assoc_handle=amzn_goodreads_web_na&openid.claimed_id=http%3A%2F%2Fspecs.openid.net%2Fauth%2F2.0%2Fidentifier_select&openid.identity=http%3A%2F%2Fspecs.openid.net%2Fauth%2F2.0%2Fidentifier_select&openid.mode=checkid_setup&openid.ns=http%3A%2F%2Fspecs.openid.net%2Fauth%2F2.0&openid.pape.max_auth_age=0&openid.return_to=https%3A%2F%2Fwww.goodreads.com%2Fap-handler%2Fsign-in&siteState=8ee875637040e51dac0713257c042f88  ...> OK\n",
      "Getting login credentials from config file: ../private/credentials.yaml  ...> OK\n",
      "Setting credentials in login page form ...> OK\n",
      "Connecting to goodreads ...> https://www.goodreads.com/  ...> OK\n"
     ]
    }
   ],
   "source": [
    "connect_driver()\n",
    "login(creds_path)"
   ]
  },
  {
   "cell_type": "code",
   "execution_count": 4,
   "metadata": {},
   "outputs": [
    {
     "name": "stdout",
     "output_type": "stream",
     "text": [
      "Getting publisher, pageFormat * firstPublished :\n",
      "Getting Page : https://www.goodreads.com/book/show/354  ...> OK\n",
      "---> Publisher : Ace Books\n",
      "---> PageFormat : Mass Market Paperback\n",
      "---> FirstPublished : July 1, 1987\n"
     ]
    },
    {
     "data": {
      "text/plain": [
       "{'publisher': 'Ace Books',\n",
       " 'page_format': 'Mass Market Paperback',\n",
       " 'first_published': 'July 1, 1987'}"
      ]
     },
     "execution_count": 4,
     "metadata": {},
     "output_type": "execute_result"
    }
   ],
   "source": [
    "get_publisher_pagesFormat_firstPublished(354)"
   ]
  },
  {
   "cell_type": "code",
   "execution_count": null,
   "metadata": {},
   "outputs": [],
   "source": [
    "file_path = \"../books_updated.csv\"\n",
    "df = pd.read_csv(file_path)"
   ]
  },
  {
   "cell_type": "code",
   "execution_count": null,
   "metadata": {},
   "outputs": [
    {
     "name": "stdout",
     "output_type": "stream",
     "text": [
      "<class 'pandas.core.frame.DataFrame'>\n",
      "RangeIndex: 11127 entries, 0 to 11126\n",
      "Data columns (total 12 columns):\n",
      " #   Column              Non-Null Count  Dtype  \n",
      "---  ------              --------------  -----  \n",
      " 0   bookID              11127 non-null  object \n",
      " 1   title               11127 non-null  object \n",
      " 2   authors             11127 non-null  object \n",
      " 3   average_rating      11127 non-null  float64\n",
      " 4   isbn                11127 non-null  object \n",
      " 5   isbn13              11127 non-null  object \n",
      " 6   language_code       11127 non-null  object \n",
      " 7     num_pages         11127 non-null  int64  \n",
      " 8   ratings_count       11127 non-null  int64  \n",
      " 9   text_reviews_count  11127 non-null  object \n",
      " 10  publication_date    11127 non-null  object \n",
      " 11  publisher           11126 non-null  object \n",
      "dtypes: float64(1), int64(2), object(9)\n",
      "memory usage: 1.0+ MB\n"
     ]
    }
   ],
   "source": [
    "df.info()"
   ]
  },
  {
   "cell_type": "code",
   "execution_count": null,
   "metadata": {},
   "outputs": [
    {
     "data": {
      "text/plain": [
       "Index(['bookID', 'title', 'authors', 'average_rating', 'isbn', 'isbn13',\n",
       "       'language_code', 'num_pages', 'ratings_count', 'text_reviews_count',\n",
       "       'publication_date', 'publisher'],\n",
       "      dtype='object')"
      ]
     },
     "execution_count": 6,
     "metadata": {},
     "output_type": "execute_result"
    }
   ],
   "source": [
    "### Kheirie ###\n",
    "# Remove the space before the column num_pages, for ease of use\n",
    "df.rename(columns={'  num_pages': '  num_pages'.replace(' ', '')}, inplace=True)\n",
    "df.columns"
   ]
  },
  {
   "cell_type": "code",
   "execution_count": null,
   "metadata": {},
   "outputs": [
    {
     "name": "stdout",
     "output_type": "stream",
     "text": [
      "The non_numerical_values in column isbn :  3        043965548X\n",
      "12       076790818X\n",
      "16       076790382X\n",
      "27       097669400X\n",
      "40       006076273X\n",
      "            ...    \n",
      "11090    030727411X\n",
      "11101    074347788X\n",
      "11106    057305133X\n",
      "11110    843221728X\n",
      "11115    972233168X\n",
      "Name: isbn, Length: 985, dtype: object\n",
      "The non_numerical_values in column isbn13 :  1847    en-US\n",
      "Name: isbn13, dtype: object\n",
      "The non_numerical_values in column text_reviews_count :  1847    9/1/2003\n",
      "Name: text_reviews_count, dtype: object\n",
      "The non_date_values in column publication_date :  1847      MTV Books\n",
      "8180     11/31/2000\n",
      "11098     6/31/1982\n",
      "Name: publication_date, dtype: object\n"
     ]
    }
   ],
   "source": [
    "### Kheirie ###\n",
    "# investigate if their are non-numerical non-date types in supposedly numerical and date columns\n",
    "\n",
    "# text_reviews_count \n",
    "# Filter the DataFrame to get non-numerical values in the specified column\n",
    "def check_non_numerical_date(columns_list: list, intended_type: str):\n",
    "    \n",
    "    if intended_type == \"numerical\":\n",
    "        for column in columns_list:\n",
    "            non_numerical_values = df.loc[~df[column].apply(pd.to_numeric, errors='coerce').notna()]\n",
    "            print(\"The non_numerical_values in column {} : \".format(column), non_numerical_values[column])\n",
    "\n",
    "    elif intended_type == \"date\":\n",
    "        for column in columns_list:\n",
    "            non_numerical_values = df.loc[~df[column].apply(pd.to_datetime, errors='coerce').notna()]\n",
    "            print(\"The non_date_values in column {} : \".format(column), non_numerical_values[column])\n",
    "    \n",
    "# Display the non-numerical and non_date values of the selected columns\n",
    "columns = [\"isbn\", \"isbn13\", \"text_reviews_count\"]\n",
    "check_non_numerical_date(columns, \"numerical\")\n",
    "check_non_numerical_date([\"publication_date\"], \"date\")"
   ]
  },
  {
   "cell_type": "code",
   "execution_count": null,
   "metadata": {},
   "outputs": [
    {
     "data": {
      "text/plain": [
       "bookID                6549/ said the shotgun to the head.\n",
       "title                                       Saul Williams\n",
       "authors                                              4.22\n",
       "average_rating                                743470796.0\n",
       "isbn                                        9780743470797\n",
       "isbn13                                              en-US\n",
       "language_code                                         192\n",
       "num_pages                                            2762\n",
       "ratings_count                                         214\n",
       "text_reviews_count                               9/1/2003\n",
       "publication_date                                MTV Books\n",
       "publisher                                             NaN\n",
       "Name: 1847, dtype: object"
      ]
     },
     "execution_count": 8,
     "metadata": {},
     "output_type": "execute_result"
    }
   ],
   "source": [
    "### Kheirie ###\n",
    "df.iloc[1847]"
   ]
  },
  {
   "cell_type": "code",
   "execution_count": null,
   "metadata": {},
   "outputs": [
    {
     "name": "stderr",
     "output_type": "stream",
     "text": [
      "C:\\Users\\kader\\AppData\\Local\\Temp\\ipykernel_13564\\1078055645.py:13: FutureWarning: Setting an item of incompatible dtype is deprecated and will raise in a future error of pandas. Value '4.22' has dtype incompatible with float64, please explicitly cast to a compatible dtype first.\n",
      "  df.iloc[1847, 2:] = remaining_columns\n",
      "C:\\Users\\kader\\AppData\\Local\\Temp\\ipykernel_13564\\1078055645.py:13: FutureWarning: Setting an item of incompatible dtype is deprecated and will raise in a future error of pandas. Value '192' has dtype incompatible with int64, please explicitly cast to a compatible dtype first.\n",
      "  df.iloc[1847, 2:] = remaining_columns\n",
      "C:\\Users\\kader\\AppData\\Local\\Temp\\ipykernel_13564\\1078055645.py:14: SettingWithCopyWarning: \n",
      "A value is trying to be set on a copy of a slice from a DataFrame\n",
      "\n",
      "See the caveats in the documentation: https://pandas.pydata.org/pandas-docs/stable/user_guide/indexing.html#returning-a-view-versus-a-copy\n",
      "  df[\"bookID\"].iloc[1847]= bookid_title[0]\n",
      "C:\\Users\\kader\\AppData\\Local\\Temp\\ipykernel_13564\\1078055645.py:15: SettingWithCopyWarning: \n",
      "A value is trying to be set on a copy of a slice from a DataFrame\n",
      "\n",
      "See the caveats in the documentation: https://pandas.pydata.org/pandas-docs/stable/user_guide/indexing.html#returning-a-view-versus-a-copy\n",
      "  df[\"title\"].iloc[1847]= bookid_title[1]\n"
     ]
    }
   ],
   "source": [
    "### Kheirie ###\n",
    "# Split 'bookID' by \"/\" to create a list containing bookID and title content\n",
    "bookid_title = df[\"bookID\"].iloc[1847].split('/')\n",
    "\n",
    "\n",
    "# content of the remaining columns\n",
    "remaining_columns = df[['title', 'authors', 'average_rating', 'isbn', 'isbn13',\n",
    "                                   'language_code', 'num_pages', 'ratings_count', \n",
    "                                   'text_reviews_count', 'publication_date']].iloc[1847]\n",
    "\n",
    "\n",
    "# rearrange cells content for each column\n",
    "df.iloc[1847, 2:] = remaining_columns\n",
    "df[\"bookID\"].iloc[1847]= bookid_title[0]\n",
    "df[\"title\"].iloc[1847]= bookid_title[1]\n"
   ]
  },
  {
   "cell_type": "code",
   "execution_count": null,
   "metadata": {},
   "outputs": [
    {
     "data": {
      "text/plain": [
       "bookID                                          6549\n",
       "title                  said the shotgun to the head.\n",
       "authors                                Saul Williams\n",
       "average_rating                                  4.22\n",
       "isbn                                     743470796.0\n",
       "isbn13                                 9780743470797\n",
       "language_code                                  en-US\n",
       "num_pages                                        192\n",
       "ratings_count                                   2762\n",
       "text_reviews_count                               214\n",
       "publication_date                            9/1/2003\n",
       "publisher                                  MTV Books\n",
       "Name: 1847, dtype: object"
      ]
     },
     "execution_count": 10,
     "metadata": {},
     "output_type": "execute_result"
    }
   ],
   "source": [
    "### Kheirie ###\n",
    "# rechek the content \n",
    "df.iloc[1847]"
   ]
  },
  {
   "cell_type": "code",
   "execution_count": null,
   "metadata": {},
   "outputs": [
    {
     "name": "stdout",
     "output_type": "stream",
     "text": [
      "The non_numerical_values in column average_rating :  Series([], Name: average_rating, dtype: object)\n",
      "The non_numerical_values in column isbn13 :  Series([], Name: isbn13, dtype: object)\n",
      "The non_numerical_values in column text_reviews_count :  Series([], Name: text_reviews_count, dtype: object)\n",
      "The non_numerical_values in column num_pages :  Series([], Name: num_pages, dtype: object)\n",
      "The non_numerical_values in column ratings_count :  Series([], Name: ratings_count, dtype: int64)\n",
      "The non_numerical_values in column text_reviews_count :  Series([], Name: text_reviews_count, dtype: object)\n"
     ]
    }
   ],
   "source": [
    "### Kheirie ###\n",
    "# re-investigate if there is non-numerical content in supposedly numerical columns\n",
    "columns = [\"average_rating\", \"isbn13\", \"text_reviews_count\", \"num_pages\", \"ratings_count\", \"text_reviews_count\"]\n",
    "check_non_numerical_date(columns, \"numerical\")"
   ]
  },
  {
   "cell_type": "code",
   "execution_count": null,
   "metadata": {},
   "outputs": [
    {
     "name": "stderr",
     "output_type": "stream",
     "text": [
      "C:\\Users\\kader\\AppData\\Local\\Temp\\ipykernel_13564\\3143718195.py:4: SettingWithCopyWarning: \n",
      "A value is trying to be set on a copy of a slice from a DataFrame\n",
      "\n",
      "See the caveats in the documentation: https://pandas.pydata.org/pandas-docs/stable/user_guide/indexing.html#returning-a-view-versus-a-copy\n",
      "  df[\"publication_date\"].iloc[8180] = '11/30/2000'\n",
      "C:\\Users\\kader\\AppData\\Local\\Temp\\ipykernel_13564\\3143718195.py:5: SettingWithCopyWarning: \n",
      "A value is trying to be set on a copy of a slice from a DataFrame\n",
      "\n",
      "See the caveats in the documentation: https://pandas.pydata.org/pandas-docs/stable/user_guide/indexing.html#returning-a-view-versus-a-copy\n",
      "  df[\"publication_date\"].iloc[11098] = '6/30/1982'\n"
     ]
    }
   ],
   "source": [
    "### Kheirie ### \n",
    "# fix the dates by replacing 31 with 30 in June and November\n",
    "# convert the date column to type pd.datetime\n",
    "df[\"publication_date\"].iloc[8180] = '11/30/2000'\n",
    "df[\"publication_date\"].iloc[11098] = '6/30/1982'\n",
    "df['publication_date'] = pd.to_datetime(df['publication_date'], format='%m/%d/%Y', utc=False)"
   ]
  },
  {
   "cell_type": "code",
   "execution_count": null,
   "metadata": {},
   "outputs": [
    {
     "name": "stdout",
     "output_type": "stream",
     "text": [
      "<class 'pandas.core.frame.DataFrame'>\n",
      "RangeIndex: 11127 entries, 0 to 11126\n",
      "Data columns (total 12 columns):\n",
      " #   Column              Non-Null Count  Dtype         \n",
      "---  ------              --------------  -----         \n",
      " 0   bookID              11127 non-null  object        \n",
      " 1   title               11127 non-null  object        \n",
      " 2   authors             11127 non-null  object        \n",
      " 3   average_rating      11127 non-null  object        \n",
      " 4   isbn                11127 non-null  object        \n",
      " 5   isbn13              11127 non-null  object        \n",
      " 6   language_code       11127 non-null  object        \n",
      " 7   num_pages           11127 non-null  object        \n",
      " 8   ratings_count       11127 non-null  int64         \n",
      " 9   text_reviews_count  11127 non-null  object        \n",
      " 10  publication_date    11127 non-null  datetime64[ns]\n",
      " 11  publisher           11127 non-null  object        \n",
      "dtypes: datetime64[ns](1), int64(1), object(10)\n",
      "memory usage: 1.0+ MB\n"
     ]
    }
   ],
   "source": [
    "df.info()"
   ]
  },
  {
   "cell_type": "code",
   "execution_count": null,
   "metadata": {},
   "outputs": [
    {
     "name": "stdout",
     "output_type": "stream",
     "text": [
      "Started Scraping process from index {start_index} ...\n",
      "Getting AvgRating & ShelvesAdded :\n",
      "Getting Page : https://www.goodreads.com/book/stats?id=355&just_this_edition=yep  ...> "
     ]
    },
    {
     "ename": "KeyboardInterrupt",
     "evalue": "",
     "output_type": "error",
     "traceback": [
      "\u001b[1;31m---------------------------------------------------------------------------\u001b[0m",
      "\u001b[1;31mKeyboardInterrupt\u001b[0m                         Traceback (most recent call last)",
      "Cell \u001b[1;32mIn[14], line 1\u001b[0m\n\u001b[1;32m----> 1\u001b[0m new_df \u001b[38;5;241m=\u001b[39m \u001b[43mscrape_by_dfIDs\u001b[49m\u001b[43m(\u001b[49m\u001b[43mdf\u001b[49m\u001b[43m)\u001b[49m\n",
      "File \u001b[1;32mc:\\Users\\kader\\Desktop\\DSTI\\Python for ML\\Project 1\\Project 1\\anaconda-vscode\\book-rating-prediction-model\\scraper\\scraper.py:245\u001b[0m, in \u001b[0;36mscrape_by_dfIDs\u001b[1;34m(df, start_index, batch_size, min_throttle_delay, max_throttle_delay)\u001b[0m\n\u001b[0;32m    242\u001b[0m \u001b[38;5;28;01mwith\u001b[39;00m \u001b[38;5;28mopen\u001b[39m(last_index_file, \u001b[38;5;124m\"\u001b[39m\u001b[38;5;124mw\u001b[39m\u001b[38;5;124m\"\u001b[39m) \u001b[38;5;28;01mas\u001b[39;00m file:\n\u001b[0;32m    243\u001b[0m     file\u001b[38;5;241m.\u001b[39mwrite(\u001b[38;5;28mstr\u001b[39m(batch_index))\n\u001b[1;32m--> 245\u001b[0m avgR_shelvesA \u001b[38;5;241m=\u001b[39m \u001b[43mget_avgRating_shelvesAdded\u001b[49m\u001b[43m(\u001b[49m\u001b[43mrow\u001b[49m\u001b[43m[\u001b[49m\u001b[38;5;124;43m'\u001b[39;49m\u001b[38;5;124;43mbookID\u001b[39;49m\u001b[38;5;124;43m'\u001b[39;49m\u001b[43m]\u001b[49m\u001b[43m)\u001b[49m\n\u001b[0;32m    247\u001b[0m \u001b[38;5;28;01mif\u001b[39;00m \u001b[38;5;129;01mnot\u001b[39;00m is_logged_in:\n\u001b[0;32m    248\u001b[0m     throttle_delay \u001b[38;5;241m=\u001b[39m random\u001b[38;5;241m.\u001b[39muniform(min_throttle_delay, max_throttle_delay)\n",
      "File \u001b[1;32mc:\\Users\\kader\\Desktop\\DSTI\\Python for ML\\Project 1\\Project 1\\anaconda-vscode\\book-rating-prediction-model\\scraper\\scraper.py:111\u001b[0m, in \u001b[0;36mget_avgRating_shelvesAdded\u001b[1;34m(book_id)\u001b[0m\n\u001b[0;32m    108\u001b[0m myprint(\u001b[38;5;124m'\u001b[39m\u001b[38;5;124mGetting AvgRating & ShelvesAdded :\u001b[39m\u001b[38;5;124m'\u001b[39m)\n\u001b[0;32m    110\u001b[0m time\u001b[38;5;241m.\u001b[39msleep(\u001b[38;5;241m2\u001b[39m)\n\u001b[1;32m--> 111\u001b[0m val \u001b[38;5;241m=\u001b[39m \u001b[43mgetPage\u001b[49m\u001b[43m(\u001b[49m\u001b[43murl\u001b[49m\u001b[43m)\u001b[49m\n\u001b[0;32m    113\u001b[0m \u001b[38;5;28;01mif\u001b[39;00m \u001b[38;5;129;01mnot\u001b[39;00m val:\n\u001b[0;32m    114\u001b[0m     \u001b[38;5;28mprint\u001b[39m(\u001b[38;5;124mf\u001b[39m\u001b[38;5;124m\"\u001b[39m\u001b[38;5;124mConnecting to \u001b[39m\u001b[38;5;132;01m{\u001b[39;00murl\u001b[38;5;132;01m}\u001b[39;00m\u001b[38;5;124m failed !!! \u001b[39m\u001b[38;5;130;01m\\n\u001b[39;00m\u001b[38;5;124m try to connect again again ...\u001b[39m\u001b[38;5;124m\"\u001b[39m)\n",
      "File \u001b[1;32mc:\\Users\\kader\\Desktop\\DSTI\\Python for ML\\Project 1\\Project 1\\anaconda-vscode\\book-rating-prediction-model\\scraper\\scraper.py:49\u001b[0m, in \u001b[0;36mgetPage\u001b[1;34m(url, timeout)\u001b[0m\n\u001b[0;32m     47\u001b[0m myprint(\u001b[38;5;124m'\u001b[39m\u001b[38;5;124mGetting Page :\u001b[39m\u001b[38;5;124m'\u001b[39m, url, \u001b[38;5;124m'\u001b[39m\u001b[38;5;124m ...> \u001b[39m\u001b[38;5;124m'\u001b[39m, end\u001b[38;5;241m=\u001b[39m\u001b[38;5;124m'\u001b[39m\u001b[38;5;124m'\u001b[39m)\n\u001b[0;32m     48\u001b[0m driver\u001b[38;5;241m.\u001b[39mget(url)\n\u001b[1;32m---> 49\u001b[0m \u001b[43mtime\u001b[49m\u001b[38;5;241;43m.\u001b[39;49m\u001b[43msleep\u001b[49m\u001b[43m(\u001b[49m\u001b[43mtimeout\u001b[49m\u001b[43m)\u001b[49m\n\u001b[0;32m     50\u001b[0m \u001b[38;5;28;01mif\u001b[39;00m \u001b[38;5;28mlen\u001b[39m(driver\u001b[38;5;241m.\u001b[39mpage_source) \u001b[38;5;241m==\u001b[39m \u001b[38;5;241m0\u001b[39m:\n\u001b[0;32m     51\u001b[0m     \u001b[38;5;66;03m# raise ValueError(\"Page empty\")\u001b[39;00m\n\u001b[0;32m     52\u001b[0m     \u001b[38;5;28mprint\u001b[39m(\u001b[38;5;124m\"\u001b[39m\u001b[38;5;124mPage empty\u001b[39m\u001b[38;5;124m\"\u001b[39m)\n",
      "\u001b[1;31mKeyboardInterrupt\u001b[0m: "
     ]
    }
   ],
   "source": [
    "new_df = scrape_by_dfIDs(df)"
   ]
  }
 ],
 "metadata": {
  "kernelspec": {
   "display_name": "book-rating_prediction",
   "language": "python",
   "name": "python3"
  },
  "language_info": {
   "codemirror_mode": {
    "name": "ipython",
    "version": 3
   },
   "file_extension": ".py",
   "mimetype": "text/x-python",
   "name": "python",
   "nbconvert_exporter": "python",
   "pygments_lexer": "ipython3",
   "version": "3.10.13"
  }
 },
 "nbformat": 4,
 "nbformat_minor": 2
}
