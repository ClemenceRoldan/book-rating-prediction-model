{
 "cells": [
  {
   "cell_type": "markdown",
   "metadata": {},
   "source": [
    "This Notebook illustrates the different steps taken to do the data cleaning and feature engineering."
   ]
  },
  {
   "cell_type": "code",
   "execution_count": 1,
   "metadata": {},
   "outputs": [],
   "source": [
    "# import necessary libraries\n",
    "import numpy as np\n",
    "import pandas as pd"
   ]
  },
  {
   "cell_type": "markdown",
   "metadata": {},
   "source": [
    "# Data Cleaning Phase 1"
   ]
  },
  {
   "cell_type": "markdown",
   "metadata": {},
   "source": [
    "This the first phase of data cleaning. It is very basic and is done on the data format and columns names. "
   ]
  },
  {
   "cell_type": "markdown",
   "metadata": {},
   "source": [
    "The first thing noticed was that when reading the original csv file \"books.csv\" some contents of sepicific sections in specific rows were separated by commas. This caused an error, because pd.read_csv considered them as content belonging to different sections (i.e. columns), resulting in different number of columns for several rows. Luckily, these content were separate by a comma and space \", \", which made it easy to solve the problem by replacing the \", \" by \"/\" as seen below. \"books_updated.csv\" is the new updated csv which is read by pandas with success."
   ]
  },
  {
   "cell_type": "code",
   "execution_count": 2,
   "metadata": {},
   "outputs": [],
   "source": [
    "### COMMENT THE FOLLOWING CELL IF YOU HAVE ALREADY RUN IT BEFORE AND SAVED THE books_updated.csv ###\n",
    "# Specify the filename\n",
    "filename = 'books.csv'\n",
    "updated_filename = \"books_updated.csv\"\n",
    "\n",
    "## In some cases in certain fields such us author the authors are separated by \", \" \n",
    "## to avoid problems when reading the csv directly using pandas and to retain all rows the following steps done\n",
    "\n",
    "# Open the file and read lines\n",
    "with open(filename, 'r', encoding='utf-8') as file: # utf-8 encoding to support all languages since there are non-english content\n",
    "    lines = file.readlines()\n",
    "\n",
    "# Process the lines to handle unwanted delimiters\n",
    "cleaned_lines = []\n",
    "is_firstline = True # used to avoid updating the first line\n",
    "\n",
    "for line in lines:\n",
    "    \n",
    "    if is_firstline: # if it is the first line i.e. Header do not update it\n",
    "        is_firstline = False\n",
    "        cleaned_lines.append(line)\n",
    "        continue\n",
    "    cleaned_line = line.replace(', ', '/')\n",
    "\n",
    "    # Append the cleaned line\n",
    "    cleaned_lines.append(cleaned_line)\n",
    "\n",
    "# rejoin all the lines to create a new updated csv\n",
    "with open(updated_filename, 'w', encoding='utf-8') as output_file:\n",
    "    for cleaned_line in cleaned_lines:\n",
    "        output_file.write(cleaned_line + '\\n')\n"
   ]
  },
  {
   "cell_type": "code",
   "execution_count": 3,
   "metadata": {},
   "outputs": [
    {
     "data": {
      "text/html": [
       "<div>\n",
       "<style scoped>\n",
       "    .dataframe tbody tr th:only-of-type {\n",
       "        vertical-align: middle;\n",
       "    }\n",
       "\n",
       "    .dataframe tbody tr th {\n",
       "        vertical-align: top;\n",
       "    }\n",
       "\n",
       "    .dataframe thead th {\n",
       "        text-align: right;\n",
       "    }\n",
       "</style>\n",
       "<table border=\"1\" class=\"dataframe\">\n",
       "  <thead>\n",
       "    <tr style=\"text-align: right;\">\n",
       "      <th></th>\n",
       "      <th>bookID</th>\n",
       "      <th>title</th>\n",
       "      <th>authors</th>\n",
       "      <th>average_rating</th>\n",
       "      <th>isbn</th>\n",
       "      <th>isbn13</th>\n",
       "      <th>language_code</th>\n",
       "      <th>num_pages</th>\n",
       "      <th>ratings_count</th>\n",
       "      <th>text_reviews_count</th>\n",
       "      <th>publication_date</th>\n",
       "      <th>publisher</th>\n",
       "    </tr>\n",
       "  </thead>\n",
       "  <tbody>\n",
       "    <tr>\n",
       "      <th>0</th>\n",
       "      <td>1</td>\n",
       "      <td>Harry Potter and the Half-Blood Prince (Harry ...</td>\n",
       "      <td>J.K. Rowling/Mary GrandPré</td>\n",
       "      <td>4.57</td>\n",
       "      <td>0439785960</td>\n",
       "      <td>9780439785969</td>\n",
       "      <td>eng</td>\n",
       "      <td>652</td>\n",
       "      <td>2095690</td>\n",
       "      <td>27591</td>\n",
       "      <td>9/16/2006</td>\n",
       "      <td>Scholastic Inc.</td>\n",
       "    </tr>\n",
       "    <tr>\n",
       "      <th>1</th>\n",
       "      <td>2</td>\n",
       "      <td>Harry Potter and the Order of the Phoenix (Har...</td>\n",
       "      <td>J.K. Rowling/Mary GrandPré</td>\n",
       "      <td>4.49</td>\n",
       "      <td>0439358078</td>\n",
       "      <td>9780439358071</td>\n",
       "      <td>eng</td>\n",
       "      <td>870</td>\n",
       "      <td>2153167</td>\n",
       "      <td>29221</td>\n",
       "      <td>9/1/2004</td>\n",
       "      <td>Scholastic Inc.</td>\n",
       "    </tr>\n",
       "    <tr>\n",
       "      <th>2</th>\n",
       "      <td>4</td>\n",
       "      <td>Harry Potter and the Chamber of Secrets (Harry...</td>\n",
       "      <td>J.K. Rowling</td>\n",
       "      <td>4.42</td>\n",
       "      <td>0439554896</td>\n",
       "      <td>9780439554893</td>\n",
       "      <td>eng</td>\n",
       "      <td>352</td>\n",
       "      <td>6333</td>\n",
       "      <td>244</td>\n",
       "      <td>11/1/2003</td>\n",
       "      <td>Scholastic</td>\n",
       "    </tr>\n",
       "    <tr>\n",
       "      <th>3</th>\n",
       "      <td>5</td>\n",
       "      <td>Harry Potter and the Prisoner of Azkaban (Harr...</td>\n",
       "      <td>J.K. Rowling/Mary GrandPré</td>\n",
       "      <td>4.56</td>\n",
       "      <td>043965548X</td>\n",
       "      <td>9780439655484</td>\n",
       "      <td>eng</td>\n",
       "      <td>435</td>\n",
       "      <td>2339585</td>\n",
       "      <td>36325</td>\n",
       "      <td>5/1/2004</td>\n",
       "      <td>Scholastic Inc.</td>\n",
       "    </tr>\n",
       "    <tr>\n",
       "      <th>4</th>\n",
       "      <td>8</td>\n",
       "      <td>Harry Potter Boxed Set  Books 1-5 (Harry Potte...</td>\n",
       "      <td>J.K. Rowling/Mary GrandPré</td>\n",
       "      <td>4.78</td>\n",
       "      <td>0439682584</td>\n",
       "      <td>9780439682589</td>\n",
       "      <td>eng</td>\n",
       "      <td>2690</td>\n",
       "      <td>41428</td>\n",
       "      <td>164</td>\n",
       "      <td>9/13/2004</td>\n",
       "      <td>Scholastic</td>\n",
       "    </tr>\n",
       "  </tbody>\n",
       "</table>\n",
       "</div>"
      ],
      "text/plain": [
       "  bookID                                              title  \\\n",
       "0      1  Harry Potter and the Half-Blood Prince (Harry ...   \n",
       "1      2  Harry Potter and the Order of the Phoenix (Har...   \n",
       "2      4  Harry Potter and the Chamber of Secrets (Harry...   \n",
       "3      5  Harry Potter and the Prisoner of Azkaban (Harr...   \n",
       "4      8  Harry Potter Boxed Set  Books 1-5 (Harry Potte...   \n",
       "\n",
       "                      authors  average_rating        isbn         isbn13  \\\n",
       "0  J.K. Rowling/Mary GrandPré            4.57  0439785960  9780439785969   \n",
       "1  J.K. Rowling/Mary GrandPré            4.49  0439358078  9780439358071   \n",
       "2                J.K. Rowling            4.42  0439554896  9780439554893   \n",
       "3  J.K. Rowling/Mary GrandPré            4.56  043965548X  9780439655484   \n",
       "4  J.K. Rowling/Mary GrandPré            4.78  0439682584  9780439682589   \n",
       "\n",
       "  language_code    num_pages  ratings_count text_reviews_count  \\\n",
       "0           eng          652        2095690              27591   \n",
       "1           eng          870        2153167              29221   \n",
       "2           eng          352           6333                244   \n",
       "3           eng          435        2339585              36325   \n",
       "4           eng         2690          41428                164   \n",
       "\n",
       "  publication_date        publisher  \n",
       "0        9/16/2006  Scholastic Inc.  \n",
       "1         9/1/2004  Scholastic Inc.  \n",
       "2        11/1/2003       Scholastic  \n",
       "3         5/1/2004  Scholastic Inc.  \n",
       "4        9/13/2004       Scholastic  "
      ]
     },
     "execution_count": 3,
     "metadata": {},
     "output_type": "execute_result"
    }
   ],
   "source": [
    "# Read the cleaned data into a DataFrame\n",
    "df = pd.read_csv(updated_filename, delimiter = \",\", encoding = 'utf-8', index_col=False) \n",
    "\n",
    "# Look at the first 5 rows of the DataFrame\n",
    "df.head()"
   ]
  },
  {
   "cell_type": "markdown",
   "metadata": {},
   "source": [
    "Looking closer at the column names, we notice that in one of the column '  num_pages' the name starts with space. For ease of use, it is better to remove this unnecessary space."
   ]
  },
  {
   "cell_type": "code",
   "execution_count": 4,
   "metadata": {},
   "outputs": [
    {
     "data": {
      "text/plain": [
       "Index(['bookID', 'title', 'authors', 'average_rating', 'isbn', 'isbn13',\n",
       "       'language_code', '  num_pages', 'ratings_count', 'text_reviews_count',\n",
       "       'publication_date', 'publisher'],\n",
       "      dtype='object')"
      ]
     },
     "execution_count": 4,
     "metadata": {},
     "output_type": "execute_result"
    }
   ],
   "source": [
    "df.columns"
   ]
  },
  {
   "cell_type": "code",
   "execution_count": 5,
   "metadata": {},
   "outputs": [
    {
     "data": {
      "text/plain": [
       "Index(['bookID', 'title', 'authors', 'average_rating', 'isbn', 'isbn13',\n",
       "       'language_code', 'num_pages', 'ratings_count', 'text_reviews_count',\n",
       "       'publication_date', 'publisher'],\n",
       "      dtype='object')"
      ]
     },
     "execution_count": 5,
     "metadata": {},
     "output_type": "execute_result"
    }
   ],
   "source": [
    "# Remove the space before the column num_pages, for ease of use\n",
    "df.rename(columns={'  num_pages': '  num_pages'.replace(' ', '')}, inplace=True)\n",
    "df.columns"
   ]
  },
  {
   "cell_type": "markdown",
   "metadata": {},
   "source": [
    "Examining the column types, it is noticed that some of the columns that are supposed to be numerical types are object types"
   ]
  },
  {
   "cell_type": "code",
   "execution_count": 6,
   "metadata": {},
   "outputs": [
    {
     "name": "stdout",
     "output_type": "stream",
     "text": [
      "bookID                 object\n",
      "title                  object\n",
      "authors                object\n",
      "average_rating        float64\n",
      "isbn                   object\n",
      "isbn13                 object\n",
      "language_code          object\n",
      "num_pages               int64\n",
      "ratings_count           int64\n",
      "text_reviews_count     object\n",
      "publication_date       object\n",
      "publisher              object\n",
      "dtype: object\n"
     ]
    }
   ],
   "source": [
    "types_columns=df.dtypes\n",
    "number_lines,number_columns=df.shape\n",
    "print(types_columns)"
   ]
  },
  {
   "cell_type": "code",
   "execution_count": 7,
   "metadata": {},
   "outputs": [
    {
     "name": "stdout",
     "output_type": "stream",
     "text": [
      "The non_numerical_values in column isbn :  3        043965548X\n",
      "12       076790818X\n",
      "16       076790382X\n",
      "27       097669400X\n",
      "40       006076273X\n",
      "            ...    \n",
      "11090    030727411X\n",
      "11101    074347788X\n",
      "11106    057305133X\n",
      "11110    843221728X\n",
      "11115    972233168X\n",
      "Name: isbn, Length: 985, dtype: object\n",
      "The non_numerical_values in column isbn13 :  1847    en-US\n",
      "Name: isbn13, dtype: object\n",
      "The non_numerical_values in column text_reviews_count :  1847    9/1/2003\n",
      "Name: text_reviews_count, dtype: object\n",
      "The non_date_values in column publication_date :  1847      MTV Books\n",
      "8180     11/31/2000\n",
      "11098     6/31/1982\n",
      "Name: publication_date, dtype: object\n"
     ]
    }
   ],
   "source": [
    "# investigate if their are non-numerical non-date types in supposedly numerical and date columns\n",
    "\n",
    "# text_reviews_count \n",
    "# Filter the DataFrame to get non-numerical values in the specified column\n",
    "def check_non_numerical_date(columns_list: list, intended_type: str):\n",
    "    \n",
    "    if intended_type == \"numerical\":\n",
    "        for column in columns_list:\n",
    "            non_numerical_values = df.loc[~df[column].apply(pd.to_numeric, errors='coerce').notna()]\n",
    "            print(\"The non_numerical_values in column {} : \".format(column), non_numerical_values[column])\n",
    "\n",
    "    elif intended_type == \"date\":\n",
    "        for column in columns_list:\n",
    "            non_numerical_values = df.loc[~df[column].apply(pd.to_datetime, errors='coerce').notna()]\n",
    "            print(\"The non_date_values in column {} : \".format(column), non_numerical_values[column])\n",
    "    \n",
    "# Display the non-numerical and non_date values of the selected columns\n",
    "columns = [\"isbn\", \"isbn13\", \"text_reviews_count\"]\n",
    "check_non_numerical_date(columns, \"numerical\")\n",
    "check_non_numerical_date([\"publication_date\"], \"date\")"
   ]
  },
  {
   "cell_type": "markdown",
   "metadata": {},
   "source": [
    "From the above investigation one can notice the following : \n",
    "- isbn is not numerical since some of the isbn codes end with X \n",
    "- we notice that at index location 1847 the data is shifted to the left\n",
    "- dates at index locations 8180 and 11098 were not considered as dates since they are wrong. June and November are 31 days, but in reality they are only 30 days.\n",
    "\n",
    "Also, as seen below there is one empty cell in publisher column, which is on index location 1847."
   ]
  },
  {
   "cell_type": "code",
   "execution_count": 8,
   "metadata": {},
   "outputs": [
    {
     "data": {
      "text/plain": [
       "bookID                0\n",
       "title                 0\n",
       "authors               0\n",
       "average_rating        0\n",
       "isbn                  0\n",
       "isbn13                0\n",
       "language_code         0\n",
       "num_pages             0\n",
       "ratings_count         0\n",
       "text_reviews_count    0\n",
       "publication_date      0\n",
       "publisher             1\n",
       "dtype: int64"
      ]
     },
     "execution_count": 8,
     "metadata": {},
     "output_type": "execute_result"
    }
   ],
   "source": [
    "df.isna().sum()"
   ]
  },
  {
   "cell_type": "code",
   "execution_count": 9,
   "metadata": {},
   "outputs": [
    {
     "data": {
      "text/plain": [
       "1847    NaN\n",
       "Name: publisher, dtype: object"
      ]
     },
     "execution_count": 9,
     "metadata": {},
     "output_type": "execute_result"
    }
   ],
   "source": [
    "df[\"publisher\"][df[\"publisher\"].isna()==True]"
   ]
  },
  {
   "cell_type": "code",
   "execution_count": 10,
   "metadata": {},
   "outputs": [
    {
     "data": {
      "text/plain": [
       "bookID                6549/ said the shotgun to the head.\n",
       "title                                       Saul Williams\n",
       "authors                                              4.22\n",
       "average_rating                                743470796.0\n",
       "isbn                                        9780743470797\n",
       "isbn13                                              en-US\n",
       "language_code                                         192\n",
       "num_pages                                            2762\n",
       "ratings_count                                         214\n",
       "text_reviews_count                               9/1/2003\n",
       "publication_date                                MTV Books\n",
       "publisher                                             NaN\n",
       "Name: 1847, dtype: object"
      ]
     },
     "execution_count": 10,
     "metadata": {},
     "output_type": "execute_result"
    }
   ],
   "source": [
    "df.iloc[1847]"
   ]
  },
  {
   "cell_type": "markdown",
   "metadata": {},
   "source": [
    "One can notice that there is a / in the bookID which separates the BookID from the book title. This must be a result from updating automatically the csv files at the beginning. \n",
    "\n",
    "Below is the code to fix this unwanted mistake"
   ]
  },
  {
   "cell_type": "code",
   "execution_count": 11,
   "metadata": {},
   "outputs": [
    {
     "name": "stderr",
     "output_type": "stream",
     "text": [
      "C:\\Users\\kader\\AppData\\Local\\Temp\\ipykernel_81788\\3963356864.py:11: FutureWarning: Setting an item of incompatible dtype is deprecated and will raise in a future error of pandas. Value '4.22' has dtype incompatible with float64, please explicitly cast to a compatible dtype first.\n",
      "  df.iloc[1847, 2:] = remaining_columns\n",
      "C:\\Users\\kader\\AppData\\Local\\Temp\\ipykernel_81788\\3963356864.py:11: FutureWarning: Setting an item of incompatible dtype is deprecated and will raise in a future error of pandas. Value '192' has dtype incompatible with int64, please explicitly cast to a compatible dtype first.\n",
      "  df.iloc[1847, 2:] = remaining_columns\n",
      "C:\\Users\\kader\\AppData\\Local\\Temp\\ipykernel_81788\\3963356864.py:12: SettingWithCopyWarning: \n",
      "A value is trying to be set on a copy of a slice from a DataFrame\n",
      "\n",
      "See the caveats in the documentation: https://pandas.pydata.org/pandas-docs/stable/user_guide/indexing.html#returning-a-view-versus-a-copy\n",
      "  df[\"bookID\"].iloc[1847]= bookid_title[0]\n",
      "C:\\Users\\kader\\AppData\\Local\\Temp\\ipykernel_81788\\3963356864.py:13: SettingWithCopyWarning: \n",
      "A value is trying to be set on a copy of a slice from a DataFrame\n",
      "\n",
      "See the caveats in the documentation: https://pandas.pydata.org/pandas-docs/stable/user_guide/indexing.html#returning-a-view-versus-a-copy\n",
      "  df[\"title\"].iloc[1847]= bookid_title[1]\n"
     ]
    }
   ],
   "source": [
    "bookid_title = df[\"bookID\"].iloc[1847].split('/')\n",
    "\n",
    "\n",
    "# content of the remaining columns\n",
    "remaining_columns = df[['title', 'authors', 'average_rating', 'isbn', 'isbn13',\n",
    "                                   'language_code', 'num_pages', 'ratings_count', \n",
    "                                   'text_reviews_count', 'publication_date']].iloc[1847]\n",
    "\n",
    "\n",
    "# rearrange cells content for each column\n",
    "df.iloc[1847, 2:] = remaining_columns\n",
    "df[\"bookID\"].iloc[1847]= bookid_title[0]\n",
    "df[\"title\"].iloc[1847]= bookid_title[1]"
   ]
  },
  {
   "cell_type": "code",
   "execution_count": 12,
   "metadata": {},
   "outputs": [
    {
     "data": {
      "text/plain": [
       "bookID                                          6549\n",
       "title                  said the shotgun to the head.\n",
       "authors                                Saul Williams\n",
       "average_rating                                  4.22\n",
       "isbn                                     743470796.0\n",
       "isbn13                                 9780743470797\n",
       "language_code                                  en-US\n",
       "num_pages                                        192\n",
       "ratings_count                                   2762\n",
       "text_reviews_count                               214\n",
       "publication_date                            9/1/2003\n",
       "publisher                                  MTV Books\n",
       "Name: 1847, dtype: object"
      ]
     },
     "execution_count": 12,
     "metadata": {},
     "output_type": "execute_result"
    }
   ],
   "source": [
    "# rechek the content \n",
    "df.iloc[1847]"
   ]
  },
  {
   "cell_type": "code",
   "execution_count": 13,
   "metadata": {},
   "outputs": [
    {
     "name": "stdout",
     "output_type": "stream",
     "text": [
      "<class 'pandas.core.frame.DataFrame'>\n",
      "RangeIndex: 11127 entries, 0 to 11126\n",
      "Data columns (total 12 columns):\n",
      " #   Column              Non-Null Count  Dtype \n",
      "---  ------              --------------  ----- \n",
      " 0   bookID              11127 non-null  object\n",
      " 1   title               11127 non-null  object\n",
      " 2   authors             11127 non-null  object\n",
      " 3   average_rating      11127 non-null  object\n",
      " 4   isbn                11127 non-null  object\n",
      " 5   isbn13              11127 non-null  object\n",
      " 6   language_code       11127 non-null  object\n",
      " 7   num_pages           11127 non-null  object\n",
      " 8   ratings_count       11127 non-null  int64 \n",
      " 9   text_reviews_count  11127 non-null  object\n",
      " 10  publication_date    11127 non-null  object\n",
      " 11  publisher           11127 non-null  object\n",
      "dtypes: int64(1), object(11)\n",
      "memory usage: 1.0+ MB\n"
     ]
    }
   ],
   "source": [
    "# Check the types of the columns\n",
    "df.info()"
   ]
  },
  {
   "cell_type": "markdown",
   "metadata": {},
   "source": [
    "For some reasons the supposedly numerical columns became objects \n",
    "Re-investigate again if they contain non-numerical content"
   ]
  },
  {
   "cell_type": "code",
   "execution_count": 14,
   "metadata": {},
   "outputs": [
    {
     "name": "stdout",
     "output_type": "stream",
     "text": [
      "The non_numerical_values in column average_rating :  Series([], Name: average_rating, dtype: object)\n",
      "The non_numerical_values in column isbn13 :  Series([], Name: isbn13, dtype: object)\n"
     ]
    },
    {
     "name": "stdout",
     "output_type": "stream",
     "text": [
      "The non_numerical_values in column text_reviews_count :  Series([], Name: text_reviews_count, dtype: object)\n",
      "The non_numerical_values in column num_pages :  Series([], Name: num_pages, dtype: object)\n",
      "The non_numerical_values in column ratings_count :  Series([], Name: ratings_count, dtype: int64)\n",
      "The non_numerical_values in column text_reviews_count :  Series([], Name: text_reviews_count, dtype: object)\n"
     ]
    }
   ],
   "source": [
    "# re-investigate if there is non-numerical content in supposedly numerical columns\n",
    "columns = [\"average_rating\", \"isbn13\", \"text_reviews_count\", \"num_pages\", \"ratings_count\", \"text_reviews_count\"]\n",
    "check_non_numerical_date(columns, \"numerical\")"
   ]
  },
  {
   "cell_type": "markdown",
   "metadata": {},
   "source": [
    "They do not contain non-numerical content, so will transform them to numerical"
   ]
  },
  {
   "cell_type": "code",
   "execution_count": 15,
   "metadata": {},
   "outputs": [
    {
     "name": "stdout",
     "output_type": "stream",
     "text": [
      "<class 'pandas.core.frame.DataFrame'>\n",
      "RangeIndex: 11127 entries, 0 to 11126\n",
      "Data columns (total 12 columns):\n",
      " #   Column              Non-Null Count  Dtype  \n",
      "---  ------              --------------  -----  \n",
      " 0   bookID              11127 non-null  object \n",
      " 1   title               11127 non-null  object \n",
      " 2   authors             11127 non-null  object \n",
      " 3   average_rating      11127 non-null  float64\n",
      " 4   isbn                11127 non-null  object \n",
      " 5   isbn13              11127 non-null  int64  \n",
      " 6   language_code       11127 non-null  object \n",
      " 7   num_pages           11127 non-null  int64  \n",
      " 8   ratings_count       11127 non-null  int64  \n",
      " 9   text_reviews_count  11127 non-null  int64  \n",
      " 10  publication_date    11127 non-null  object \n",
      " 11  publisher           11127 non-null  object \n",
      "dtypes: float64(1), int64(4), object(7)\n",
      "memory usage: 1.0+ MB\n"
     ]
    }
   ],
   "source": [
    "# convert to numerical\n",
    "def convert_to_numerical(columns_list: list):\n",
    "    \n",
    "    for column in columns_list:\n",
    "        df[column] = df[column].apply(pd.to_numeric)\n",
    "\n",
    "columns = [\"average_rating\", \"isbn13\", \"text_reviews_count\", \"num_pages\", \"ratings_count\", \"text_reviews_count\"]\n",
    "\n",
    "convert_to_numerical(columns)\n",
    "\n",
    "df.info()"
   ]
  },
  {
   "cell_type": "code",
   "execution_count": 16,
   "metadata": {},
   "outputs": [
    {
     "name": "stderr",
     "output_type": "stream",
     "text": [
      "C:\\Users\\kader\\AppData\\Local\\Temp\\ipykernel_81788\\3398859105.py:3: SettingWithCopyWarning: \n",
      "A value is trying to be set on a copy of a slice from a DataFrame\n",
      "\n",
      "See the caveats in the documentation: https://pandas.pydata.org/pandas-docs/stable/user_guide/indexing.html#returning-a-view-versus-a-copy\n",
      "  df[\"publication_date\"].iloc[8180] = '11/30/2000'\n",
      "C:\\Users\\kader\\AppData\\Local\\Temp\\ipykernel_81788\\3398859105.py:4: SettingWithCopyWarning: \n",
      "A value is trying to be set on a copy of a slice from a DataFrame\n",
      "\n",
      "See the caveats in the documentation: https://pandas.pydata.org/pandas-docs/stable/user_guide/indexing.html#returning-a-view-versus-a-copy\n",
      "  df[\"publication_date\"].iloc[11098] = '6/30/1982'\n"
     ]
    }
   ],
   "source": [
    "# fix the dates by replacing 31 with 30 in June and November\n",
    "# convert the date column to type pd.datetime\n",
    "df[\"publication_date\"].iloc[8180] = '11/30/2000'\n",
    "df[\"publication_date\"].iloc[11098] = '6/30/1982'"
   ]
  },
  {
   "cell_type": "markdown",
   "metadata": {},
   "source": [
    "Resave the DataFrame to avoid repeating the process each time we want to use the df"
   ]
  },
  {
   "cell_type": "code",
   "execution_count": 17,
   "metadata": {},
   "outputs": [],
   "source": [
    "df.to_csv(\"books_updated.csv\", index_label=False) # index_label = False so that it does not add another index label to the DataFrame"
   ]
  }
 ],
 "metadata": {
  "kernelspec": {
   "display_name": "book-rating_prediction",
   "language": "python",
   "name": "python3"
  },
  "language_info": {
   "codemirror_mode": {
    "name": "ipython",
    "version": 3
   },
   "file_extension": ".py",
   "mimetype": "text/x-python",
   "name": "python",
   "nbconvert_exporter": "python",
   "pygments_lexer": "ipython3",
   "version": "3.10.13"
  }
 },
 "nbformat": 4,
 "nbformat_minor": 2
}
