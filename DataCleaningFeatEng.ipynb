{
 "cells": [
  {
   "cell_type": "markdown",
   "metadata": {},
   "source": [
    "--- Kheire --- \n",
    "\n",
    "Work in progress. \n",
    "\n",
    "Data Cleaning Phase 1 is ready. \n",
    "\n",
    "Data Cleaning Phase 2 is work in progress. It is done on the scraped data. "
   ]
  },
  {
   "cell_type": "markdown",
   "metadata": {},
   "source": [
    "This Notebook illustrates the different steps taken to do the data cleaning and feature engineering."
   ]
  },
  {
   "cell_type": "code",
   "execution_count": 16,
   "metadata": {},
   "outputs": [
    {
     "name": "stdout",
     "output_type": "stream",
     "text": [
      "The autoreload extension is already loaded. To reload it, use:\n",
      "  %reload_ext autoreload\n"
     ]
    }
   ],
   "source": [
    "# import necessary libraries\n",
    "%load_ext autoreload\n",
    "%autoreload 2\n",
    "import numpy as np\n",
    "import pandas as pd\n",
    "from utils import *\n",
    "import re"
   ]
  },
  {
   "cell_type": "markdown",
   "metadata": {},
   "source": [
    "# Data Cleaning Phase 1"
   ]
  },
  {
   "cell_type": "markdown",
   "metadata": {},
   "source": [
    "This the first phase of data cleaning. It is very basic and is done on the data format and columns names. "
   ]
  },
  {
   "cell_type": "markdown",
   "metadata": {},
   "source": [
    "The first thing noticed was that when reading the original csv file \"books.csv\" some contents of sepicific sections in specific rows were separated by commas. This caused an error, because pd.read_csv considered them as content belonging to different sections (i.e. columns), resulting in different number of columns for several rows. Luckily, these content were separate by a comma and space \", \", which made it easy to solve the problem by replacing the \", \" by \"/\" as seen below. \"books_updated.csv\" is the new updated csv which is read by pandas with success."
   ]
  },
  {
   "cell_type": "code",
   "execution_count": 2,
   "metadata": {},
   "outputs": [],
   "source": [
    "### COMMENT THE FOLLOWING CELL IF YOU HAVE ALREADY RUN IT BEFORE AND SAVED THE books_updated.csv ###\n",
    "# Specify the filename\n",
    "filename = 'books.csv'\n",
    "updated_filename = \"books_updated.csv\"\n",
    "\n",
    "## In some cases in certain fields such us author the authors are separated by \", \" \n",
    "## to avoid problems when reading the csv directly using pandas and to retain all rows the following steps done\n",
    "\n",
    "# Open the file and read lines\n",
    "with open(filename, 'r', encoding='utf-8') as file: # utf-8 encoding to support all languages since there are non-english content\n",
    "    lines = file.readlines()\n",
    "\n",
    "# Process the lines to handle unwanted delimiters\n",
    "cleaned_lines = []\n",
    "is_firstline = True # used to avoid updating the first line\n",
    "\n",
    "for line in lines:\n",
    "    \n",
    "    if is_firstline: # if it is the first line i.e. Header do not update it\n",
    "        is_firstline = False\n",
    "        cleaned_lines.append(line)\n",
    "        continue\n",
    "    cleaned_line = line.replace(', ', '/')\n",
    "\n",
    "    # Append the cleaned line\n",
    "    cleaned_lines.append(cleaned_line)\n",
    "\n",
    "# rejoin all the lines to create a new updated csv\n",
    "with open(updated_filename, 'w', encoding='utf-8') as output_file:\n",
    "    for cleaned_line in cleaned_lines:\n",
    "        output_file.write(cleaned_line + '\\n')\n"
   ]
  },
  {
   "cell_type": "code",
   "execution_count": 3,
   "metadata": {},
   "outputs": [
    {
     "data": {
      "text/html": [
       "<div>\n",
       "<style scoped>\n",
       "    .dataframe tbody tr th:only-of-type {\n",
       "        vertical-align: middle;\n",
       "    }\n",
       "\n",
       "    .dataframe tbody tr th {\n",
       "        vertical-align: top;\n",
       "    }\n",
       "\n",
       "    .dataframe thead th {\n",
       "        text-align: right;\n",
       "    }\n",
       "</style>\n",
       "<table border=\"1\" class=\"dataframe\">\n",
       "  <thead>\n",
       "    <tr style=\"text-align: right;\">\n",
       "      <th></th>\n",
       "      <th>bookID</th>\n",
       "      <th>title</th>\n",
       "      <th>authors</th>\n",
       "      <th>average_rating</th>\n",
       "      <th>isbn</th>\n",
       "      <th>isbn13</th>\n",
       "      <th>language_code</th>\n",
       "      <th>num_pages</th>\n",
       "      <th>ratings_count</th>\n",
       "      <th>text_reviews_count</th>\n",
       "      <th>publication_date</th>\n",
       "      <th>publisher</th>\n",
       "    </tr>\n",
       "  </thead>\n",
       "  <tbody>\n",
       "    <tr>\n",
       "      <th>0</th>\n",
       "      <td>1</td>\n",
       "      <td>Harry Potter and the Half-Blood Prince (Harry ...</td>\n",
       "      <td>J.K. Rowling/Mary GrandPré</td>\n",
       "      <td>4.57</td>\n",
       "      <td>0439785960</td>\n",
       "      <td>9780439785969</td>\n",
       "      <td>eng</td>\n",
       "      <td>652</td>\n",
       "      <td>2095690</td>\n",
       "      <td>27591</td>\n",
       "      <td>9/16/2006</td>\n",
       "      <td>Scholastic Inc.</td>\n",
       "    </tr>\n",
       "    <tr>\n",
       "      <th>1</th>\n",
       "      <td>2</td>\n",
       "      <td>Harry Potter and the Order of the Phoenix (Har...</td>\n",
       "      <td>J.K. Rowling/Mary GrandPré</td>\n",
       "      <td>4.49</td>\n",
       "      <td>0439358078</td>\n",
       "      <td>9780439358071</td>\n",
       "      <td>eng</td>\n",
       "      <td>870</td>\n",
       "      <td>2153167</td>\n",
       "      <td>29221</td>\n",
       "      <td>9/1/2004</td>\n",
       "      <td>Scholastic Inc.</td>\n",
       "    </tr>\n",
       "    <tr>\n",
       "      <th>2</th>\n",
       "      <td>4</td>\n",
       "      <td>Harry Potter and the Chamber of Secrets (Harry...</td>\n",
       "      <td>J.K. Rowling</td>\n",
       "      <td>4.42</td>\n",
       "      <td>0439554896</td>\n",
       "      <td>9780439554893</td>\n",
       "      <td>eng</td>\n",
       "      <td>352</td>\n",
       "      <td>6333</td>\n",
       "      <td>244</td>\n",
       "      <td>11/1/2003</td>\n",
       "      <td>Scholastic</td>\n",
       "    </tr>\n",
       "    <tr>\n",
       "      <th>3</th>\n",
       "      <td>5</td>\n",
       "      <td>Harry Potter and the Prisoner of Azkaban (Harr...</td>\n",
       "      <td>J.K. Rowling/Mary GrandPré</td>\n",
       "      <td>4.56</td>\n",
       "      <td>043965548X</td>\n",
       "      <td>9780439655484</td>\n",
       "      <td>eng</td>\n",
       "      <td>435</td>\n",
       "      <td>2339585</td>\n",
       "      <td>36325</td>\n",
       "      <td>5/1/2004</td>\n",
       "      <td>Scholastic Inc.</td>\n",
       "    </tr>\n",
       "    <tr>\n",
       "      <th>4</th>\n",
       "      <td>8</td>\n",
       "      <td>Harry Potter Boxed Set  Books 1-5 (Harry Potte...</td>\n",
       "      <td>J.K. Rowling/Mary GrandPré</td>\n",
       "      <td>4.78</td>\n",
       "      <td>0439682584</td>\n",
       "      <td>9780439682589</td>\n",
       "      <td>eng</td>\n",
       "      <td>2690</td>\n",
       "      <td>41428</td>\n",
       "      <td>164</td>\n",
       "      <td>9/13/2004</td>\n",
       "      <td>Scholastic</td>\n",
       "    </tr>\n",
       "  </tbody>\n",
       "</table>\n",
       "</div>"
      ],
      "text/plain": [
       "  bookID                                              title  \\\n",
       "0      1  Harry Potter and the Half-Blood Prince (Harry ...   \n",
       "1      2  Harry Potter and the Order of the Phoenix (Har...   \n",
       "2      4  Harry Potter and the Chamber of Secrets (Harry...   \n",
       "3      5  Harry Potter and the Prisoner of Azkaban (Harr...   \n",
       "4      8  Harry Potter Boxed Set  Books 1-5 (Harry Potte...   \n",
       "\n",
       "                      authors  average_rating        isbn         isbn13  \\\n",
       "0  J.K. Rowling/Mary GrandPré            4.57  0439785960  9780439785969   \n",
       "1  J.K. Rowling/Mary GrandPré            4.49  0439358078  9780439358071   \n",
       "2                J.K. Rowling            4.42  0439554896  9780439554893   \n",
       "3  J.K. Rowling/Mary GrandPré            4.56  043965548X  9780439655484   \n",
       "4  J.K. Rowling/Mary GrandPré            4.78  0439682584  9780439682589   \n",
       "\n",
       "  language_code    num_pages  ratings_count text_reviews_count  \\\n",
       "0           eng          652        2095690              27591   \n",
       "1           eng          870        2153167              29221   \n",
       "2           eng          352           6333                244   \n",
       "3           eng          435        2339585              36325   \n",
       "4           eng         2690          41428                164   \n",
       "\n",
       "  publication_date        publisher  \n",
       "0        9/16/2006  Scholastic Inc.  \n",
       "1         9/1/2004  Scholastic Inc.  \n",
       "2        11/1/2003       Scholastic  \n",
       "3         5/1/2004  Scholastic Inc.  \n",
       "4        9/13/2004       Scholastic  "
      ]
     },
     "execution_count": 3,
     "metadata": {},
     "output_type": "execute_result"
    }
   ],
   "source": [
    "# Read the cleaned data into a DataFrame\n",
    "df = pd.read_csv(updated_filename, delimiter = \",\", encoding = 'utf-8', index_col=False) \n",
    "\n",
    "# Look at the first 5 rows of the DataFrame\n",
    "df.head()"
   ]
  },
  {
   "cell_type": "markdown",
   "metadata": {},
   "source": [
    "Looking closer at the column names, we notice that in one of the column '  num_pages' the name starts with space. For ease of use, it is better to remove this unnecessary space."
   ]
  },
  {
   "cell_type": "code",
   "execution_count": 4,
   "metadata": {},
   "outputs": [
    {
     "data": {
      "text/plain": [
       "Index(['bookID', 'title', 'authors', 'average_rating', 'isbn', 'isbn13',\n",
       "       'language_code', '  num_pages', 'ratings_count', 'text_reviews_count',\n",
       "       'publication_date', 'publisher'],\n",
       "      dtype='object')"
      ]
     },
     "execution_count": 4,
     "metadata": {},
     "output_type": "execute_result"
    }
   ],
   "source": [
    "df.columns"
   ]
  },
  {
   "cell_type": "code",
   "execution_count": 5,
   "metadata": {},
   "outputs": [
    {
     "data": {
      "text/plain": [
       "Index(['bookID', 'title', 'authors', 'average_rating', 'isbn', 'isbn13',\n",
       "       'language_code', 'num_pages', 'ratings_count', 'text_reviews_count',\n",
       "       'publication_date', 'publisher'],\n",
       "      dtype='object')"
      ]
     },
     "execution_count": 5,
     "metadata": {},
     "output_type": "execute_result"
    }
   ],
   "source": [
    "# Remove the space before the column num_pages, for ease of use\n",
    "df.rename(columns={'  num_pages': '  num_pages'.replace(' ', '')}, inplace=True)\n",
    "df.columns"
   ]
  },
  {
   "cell_type": "markdown",
   "metadata": {},
   "source": [
    "Examining the column types, it is noticed that some of the columns that are supposed to be numerical types are object types"
   ]
  },
  {
   "cell_type": "code",
   "execution_count": 6,
   "metadata": {},
   "outputs": [
    {
     "name": "stdout",
     "output_type": "stream",
     "text": [
      "bookID                 object\n",
      "title                  object\n",
      "authors                object\n",
      "average_rating        float64\n",
      "isbn                   object\n",
      "isbn13                 object\n",
      "language_code          object\n",
      "num_pages               int64\n",
      "ratings_count           int64\n",
      "text_reviews_count     object\n",
      "publication_date       object\n",
      "publisher              object\n",
      "dtype: object\n"
     ]
    }
   ],
   "source": [
    "types_columns=df.dtypes\n",
    "number_lines,number_columns=df.shape\n",
    "print(types_columns)"
   ]
  },
  {
   "cell_type": "code",
   "execution_count": 7,
   "metadata": {},
   "outputs": [
    {
     "name": "stdout",
     "output_type": "stream",
     "text": [
      "The non_numerical_values in column isbn :  3        043965548X\n",
      "12       076790818X\n",
      "16       076790382X\n",
      "27       097669400X\n",
      "40       006076273X\n",
      "            ...    \n",
      "11090    030727411X\n",
      "11101    074347788X\n",
      "11106    057305133X\n",
      "11110    843221728X\n",
      "11115    972233168X\n",
      "Name: isbn, Length: 985, dtype: object\n",
      "The non_numerical_values in column isbn13 :  1847    en-US\n",
      "Name: isbn13, dtype: object\n",
      "The non_numerical_values in column text_reviews_count :  1847    9/1/2003\n",
      "Name: text_reviews_count, dtype: object\n",
      "The non_date_values in column publication_date :  1847      MTV Books\n",
      "8180     11/31/2000\n",
      "11098     6/31/1982\n",
      "Name: publication_date, dtype: object\n"
     ]
    }
   ],
   "source": [
    "# investigate if their are non-numerical non-date types in supposedly numerical and date columns\n",
    "\n",
    "# text_reviews_count \n",
    "# Filter the DataFrame to get non-numerical values in the specified column\n",
    "def check_non_numerical_date(columns_list: list, intended_type: str):\n",
    "    \n",
    "    if intended_type == \"numerical\":\n",
    "        for column in columns_list:\n",
    "            non_numerical_values = df.loc[~df[column].apply(pd.to_numeric, errors='coerce').notna()]\n",
    "            print(\"The non_numerical_values in column {} : \".format(column), non_numerical_values[column])\n",
    "\n",
    "    elif intended_type == \"date\":\n",
    "        for column in columns_list:\n",
    "            non_numerical_values = df.loc[~df[column].apply(pd.to_datetime, errors='coerce').notna()]\n",
    "            print(\"The non_date_values in column {} : \".format(column), non_numerical_values[column])\n",
    "    \n",
    "# Display the non-numerical and non_date values of the selected columns\n",
    "columns = [\"isbn\", \"isbn13\", \"text_reviews_count\"]\n",
    "check_non_numerical_date(columns, \"numerical\")\n",
    "check_non_numerical_date([\"publication_date\"], \"date\")"
   ]
  },
  {
   "cell_type": "markdown",
   "metadata": {},
   "source": [
    "From the above investigation one can notice the following : \n",
    "- isbn is not numerical since some of the isbn codes end with X \n",
    "- we notice that at index location 1847 the data is shifted to the left\n",
    "- dates at index locations 8180 and 11098 were not considered as dates since they are wrong. June and November are 31 days, but in reality they are only 30 days.\n",
    "\n",
    "Also, as seen below there is one empty cell in publisher column, which is on index location 1847."
   ]
  },
  {
   "cell_type": "code",
   "execution_count": 8,
   "metadata": {},
   "outputs": [
    {
     "data": {
      "text/plain": [
       "bookID                0\n",
       "title                 0\n",
       "authors               0\n",
       "average_rating        0\n",
       "isbn                  0\n",
       "isbn13                0\n",
       "language_code         0\n",
       "num_pages             0\n",
       "ratings_count         0\n",
       "text_reviews_count    0\n",
       "publication_date      0\n",
       "publisher             1\n",
       "dtype: int64"
      ]
     },
     "execution_count": 8,
     "metadata": {},
     "output_type": "execute_result"
    }
   ],
   "source": [
    "df.isna().sum()"
   ]
  },
  {
   "cell_type": "code",
   "execution_count": 9,
   "metadata": {},
   "outputs": [
    {
     "data": {
      "text/plain": [
       "1847    NaN\n",
       "Name: publisher, dtype: object"
      ]
     },
     "execution_count": 9,
     "metadata": {},
     "output_type": "execute_result"
    }
   ],
   "source": [
    "df[\"publisher\"][df[\"publisher\"].isna()==True]"
   ]
  },
  {
   "cell_type": "code",
   "execution_count": 10,
   "metadata": {},
   "outputs": [
    {
     "data": {
      "text/plain": [
       "bookID                6549/ said the shotgun to the head.\n",
       "title                                       Saul Williams\n",
       "authors                                              4.22\n",
       "average_rating                                743470796.0\n",
       "isbn                                        9780743470797\n",
       "isbn13                                              en-US\n",
       "language_code                                         192\n",
       "num_pages                                            2762\n",
       "ratings_count                                         214\n",
       "text_reviews_count                               9/1/2003\n",
       "publication_date                                MTV Books\n",
       "publisher                                             NaN\n",
       "Name: 1847, dtype: object"
      ]
     },
     "execution_count": 10,
     "metadata": {},
     "output_type": "execute_result"
    }
   ],
   "source": [
    "df.iloc[1847]"
   ]
  },
  {
   "cell_type": "markdown",
   "metadata": {},
   "source": [
    "One can notice that there is a / in the bookID which separates the BookID from the book title. This must be a result from updating automatically the csv files at the beginning. \n",
    "\n",
    "Below is the code to fix this unwanted mistake"
   ]
  },
  {
   "cell_type": "code",
   "execution_count": 11,
   "metadata": {},
   "outputs": [
    {
     "name": "stderr",
     "output_type": "stream",
     "text": [
      "C:\\Users\\kader\\AppData\\Local\\Temp\\ipykernel_81788\\3963356864.py:11: FutureWarning: Setting an item of incompatible dtype is deprecated and will raise in a future error of pandas. Value '4.22' has dtype incompatible with float64, please explicitly cast to a compatible dtype first.\n",
      "  df.iloc[1847, 2:] = remaining_columns\n",
      "C:\\Users\\kader\\AppData\\Local\\Temp\\ipykernel_81788\\3963356864.py:11: FutureWarning: Setting an item of incompatible dtype is deprecated and will raise in a future error of pandas. Value '192' has dtype incompatible with int64, please explicitly cast to a compatible dtype first.\n",
      "  df.iloc[1847, 2:] = remaining_columns\n",
      "C:\\Users\\kader\\AppData\\Local\\Temp\\ipykernel_81788\\3963356864.py:12: SettingWithCopyWarning: \n",
      "A value is trying to be set on a copy of a slice from a DataFrame\n",
      "\n",
      "See the caveats in the documentation: https://pandas.pydata.org/pandas-docs/stable/user_guide/indexing.html#returning-a-view-versus-a-copy\n",
      "  df[\"bookID\"].iloc[1847]= bookid_title[0]\n",
      "C:\\Users\\kader\\AppData\\Local\\Temp\\ipykernel_81788\\3963356864.py:13: SettingWithCopyWarning: \n",
      "A value is trying to be set on a copy of a slice from a DataFrame\n",
      "\n",
      "See the caveats in the documentation: https://pandas.pydata.org/pandas-docs/stable/user_guide/indexing.html#returning-a-view-versus-a-copy\n",
      "  df[\"title\"].iloc[1847]= bookid_title[1]\n"
     ]
    }
   ],
   "source": [
    "bookid_title = df[\"bookID\"].iloc[1847].split('/')\n",
    "\n",
    "\n",
    "# content of the remaining columns\n",
    "remaining_columns = df[['title', 'authors', 'average_rating', 'isbn', 'isbn13',\n",
    "                                   'language_code', 'num_pages', 'ratings_count', \n",
    "                                   'text_reviews_count', 'publication_date']].iloc[1847]\n",
    "\n",
    "\n",
    "# rearrange cells content for each column\n",
    "df.iloc[1847, 2:] = remaining_columns\n",
    "df[\"bookID\"].iloc[1847]= bookid_title[0]\n",
    "df[\"title\"].iloc[1847]= bookid_title[1]"
   ]
  },
  {
   "cell_type": "code",
   "execution_count": 12,
   "metadata": {},
   "outputs": [
    {
     "data": {
      "text/plain": [
       "bookID                                          6549\n",
       "title                  said the shotgun to the head.\n",
       "authors                                Saul Williams\n",
       "average_rating                                  4.22\n",
       "isbn                                     743470796.0\n",
       "isbn13                                 9780743470797\n",
       "language_code                                  en-US\n",
       "num_pages                                        192\n",
       "ratings_count                                   2762\n",
       "text_reviews_count                               214\n",
       "publication_date                            9/1/2003\n",
       "publisher                                  MTV Books\n",
       "Name: 1847, dtype: object"
      ]
     },
     "execution_count": 12,
     "metadata": {},
     "output_type": "execute_result"
    }
   ],
   "source": [
    "# rechek the content \n",
    "df.iloc[1847]"
   ]
  },
  {
   "cell_type": "code",
   "execution_count": 13,
   "metadata": {},
   "outputs": [
    {
     "name": "stdout",
     "output_type": "stream",
     "text": [
      "<class 'pandas.core.frame.DataFrame'>\n",
      "RangeIndex: 11127 entries, 0 to 11126\n",
      "Data columns (total 12 columns):\n",
      " #   Column              Non-Null Count  Dtype \n",
      "---  ------              --------------  ----- \n",
      " 0   bookID              11127 non-null  object\n",
      " 1   title               11127 non-null  object\n",
      " 2   authors             11127 non-null  object\n",
      " 3   average_rating      11127 non-null  object\n",
      " 4   isbn                11127 non-null  object\n",
      " 5   isbn13              11127 non-null  object\n",
      " 6   language_code       11127 non-null  object\n",
      " 7   num_pages           11127 non-null  object\n",
      " 8   ratings_count       11127 non-null  int64 \n",
      " 9   text_reviews_count  11127 non-null  object\n",
      " 10  publication_date    11127 non-null  object\n",
      " 11  publisher           11127 non-null  object\n",
      "dtypes: int64(1), object(11)\n",
      "memory usage: 1.0+ MB\n"
     ]
    }
   ],
   "source": [
    "# Check the types of the columns\n",
    "df.info()"
   ]
  },
  {
   "cell_type": "markdown",
   "metadata": {},
   "source": [
    "For some reasons the supposedly numerical columns became objects \n",
    "Re-investigate again if they contain non-numerical content"
   ]
  },
  {
   "cell_type": "code",
   "execution_count": 14,
   "metadata": {},
   "outputs": [
    {
     "name": "stdout",
     "output_type": "stream",
     "text": [
      "The non_numerical_values in column average_rating :  Series([], Name: average_rating, dtype: object)\n",
      "The non_numerical_values in column isbn13 :  Series([], Name: isbn13, dtype: object)\n"
     ]
    },
    {
     "name": "stdout",
     "output_type": "stream",
     "text": [
      "The non_numerical_values in column text_reviews_count :  Series([], Name: text_reviews_count, dtype: object)\n",
      "The non_numerical_values in column num_pages :  Series([], Name: num_pages, dtype: object)\n",
      "The non_numerical_values in column ratings_count :  Series([], Name: ratings_count, dtype: int64)\n",
      "The non_numerical_values in column text_reviews_count :  Series([], Name: text_reviews_count, dtype: object)\n"
     ]
    }
   ],
   "source": [
    "# re-investigate if there is non-numerical content in supposedly numerical columns\n",
    "columns = [\"average_rating\", \"isbn13\", \"text_reviews_count\", \"num_pages\", \"ratings_count\", \"text_reviews_count\"]\n",
    "check_non_numerical_date(columns, \"numerical\")"
   ]
  },
  {
   "cell_type": "markdown",
   "metadata": {},
   "source": [
    "They do not contain non-numerical content, so will transform them to numerical"
   ]
  },
  {
   "cell_type": "code",
   "execution_count": 15,
   "metadata": {},
   "outputs": [
    {
     "name": "stdout",
     "output_type": "stream",
     "text": [
      "<class 'pandas.core.frame.DataFrame'>\n",
      "RangeIndex: 11127 entries, 0 to 11126\n",
      "Data columns (total 12 columns):\n",
      " #   Column              Non-Null Count  Dtype  \n",
      "---  ------              --------------  -----  \n",
      " 0   bookID              11127 non-null  object \n",
      " 1   title               11127 non-null  object \n",
      " 2   authors             11127 non-null  object \n",
      " 3   average_rating      11127 non-null  float64\n",
      " 4   isbn                11127 non-null  object \n",
      " 5   isbn13              11127 non-null  int64  \n",
      " 6   language_code       11127 non-null  object \n",
      " 7   num_pages           11127 non-null  int64  \n",
      " 8   ratings_count       11127 non-null  int64  \n",
      " 9   text_reviews_count  11127 non-null  int64  \n",
      " 10  publication_date    11127 non-null  object \n",
      " 11  publisher           11127 non-null  object \n",
      "dtypes: float64(1), int64(4), object(7)\n",
      "memory usage: 1.0+ MB\n"
     ]
    }
   ],
   "source": [
    "# convert to numerical\n",
    "def convert_to_numerical(columns_list: list):\n",
    "    \n",
    "    for column in columns_list:\n",
    "        df[column] = df[column].apply(pd.to_numeric)\n",
    "\n",
    "columns = [\"average_rating\", \"isbn13\", \"text_reviews_count\", \"num_pages\", \"ratings_count\", \"text_reviews_count\"]\n",
    "\n",
    "convert_to_numerical(columns)\n",
    "\n",
    "df.info()"
   ]
  },
  {
   "cell_type": "code",
   "execution_count": 16,
   "metadata": {},
   "outputs": [
    {
     "name": "stderr",
     "output_type": "stream",
     "text": [
      "C:\\Users\\kader\\AppData\\Local\\Temp\\ipykernel_81788\\3398859105.py:3: SettingWithCopyWarning: \n",
      "A value is trying to be set on a copy of a slice from a DataFrame\n",
      "\n",
      "See the caveats in the documentation: https://pandas.pydata.org/pandas-docs/stable/user_guide/indexing.html#returning-a-view-versus-a-copy\n",
      "  df[\"publication_date\"].iloc[8180] = '11/30/2000'\n",
      "C:\\Users\\kader\\AppData\\Local\\Temp\\ipykernel_81788\\3398859105.py:4: SettingWithCopyWarning: \n",
      "A value is trying to be set on a copy of a slice from a DataFrame\n",
      "\n",
      "See the caveats in the documentation: https://pandas.pydata.org/pandas-docs/stable/user_guide/indexing.html#returning-a-view-versus-a-copy\n",
      "  df[\"publication_date\"].iloc[11098] = '6/30/1982'\n"
     ]
    }
   ],
   "source": [
    "# fix the dates by replacing 31 with 30 in June and November\n",
    "# convert the date column to type pd.datetime\n",
    "df[\"publication_date\"].iloc[8180] = '11/30/2000'\n",
    "df[\"publication_date\"].iloc[11098] = '6/30/1982'"
   ]
  },
  {
   "cell_type": "markdown",
   "metadata": {},
   "source": [
    "Resave the DataFrame to avoid repeating the process each time we want to use the df"
   ]
  },
  {
   "cell_type": "code",
   "execution_count": 17,
   "metadata": {},
   "outputs": [],
   "source": [
    "df.to_csv(\"books_updated.csv\", index_label=False) # index_label = False so that it does not add another index label to the DataFrame"
   ]
  },
  {
   "cell_type": "markdown",
   "metadata": {},
   "source": [
    "# Data Cleaning Phase 2"
   ]
  },
  {
   "cell_type": "markdown",
   "metadata": {},
   "source": [
    "This data cleaning is done on the data set after doing webscraping. Through webscraping extra features were extracted which are: \n",
    "\n",
    "- first_publish : this is the date a book was first published (this will help distinguish two different books with the same name)\n",
    "- book_format : this is the format of the book (some books are present in different formats (paperback, Audio CD, hardcover))\n",
    "- new_publisher: this is because it was noticed that in the original data some books had wrong publishers\n",
    "- edition_avgRating: this is the actaul average rating of each edition\n",
    "- added_toShelves: this is the number of users that added a book to shelves\n",
    "\n",
    "*For more details about the process of scraping, please refer to scraper/scraper.py*"
   ]
  },
  {
   "cell_type": "markdown",
   "metadata": {},
   "source": [
    "### Read the Data"
   ]
  },
  {
   "cell_type": "code",
   "execution_count": 2,
   "metadata": {},
   "outputs": [],
   "source": [
    "# read the scraped data\n",
    "df_scraped = pd.read_csv(\"scraper/booksRating_extraFeats.csv\")"
   ]
  },
  {
   "cell_type": "code",
   "execution_count": 60,
   "metadata": {},
   "outputs": [
    {
     "data": {
      "text/html": [
       "<div>\n",
       "<style scoped>\n",
       "    .dataframe tbody tr th:only-of-type {\n",
       "        vertical-align: middle;\n",
       "    }\n",
       "\n",
       "    .dataframe tbody tr th {\n",
       "        vertical-align: top;\n",
       "    }\n",
       "\n",
       "    .dataframe thead th {\n",
       "        text-align: right;\n",
       "    }\n",
       "</style>\n",
       "<table border=\"1\" class=\"dataframe\">\n",
       "  <thead>\n",
       "    <tr style=\"text-align: right;\">\n",
       "      <th></th>\n",
       "      <th>bookID</th>\n",
       "      <th>title</th>\n",
       "      <th>authors</th>\n",
       "      <th>average_rating</th>\n",
       "      <th>isbn</th>\n",
       "      <th>isbn13</th>\n",
       "      <th>language_code</th>\n",
       "      <th>num_pages</th>\n",
       "      <th>ratings_count</th>\n",
       "      <th>text_reviews_count</th>\n",
       "      <th>publication_date</th>\n",
       "      <th>publisher</th>\n",
       "      <th>first_published</th>\n",
       "      <th>book_format</th>\n",
       "      <th>new_publisher</th>\n",
       "      <th>edition_avgRating</th>\n",
       "      <th>added_toShelves</th>\n",
       "    </tr>\n",
       "  </thead>\n",
       "  <tbody>\n",
       "    <tr>\n",
       "      <th>0</th>\n",
       "      <td>1</td>\n",
       "      <td>Harry Potter and the Half-Blood Prince (Harry ...</td>\n",
       "      <td>J.K. Rowling/Mary GrandPré</td>\n",
       "      <td>4.57</td>\n",
       "      <td>0439785960</td>\n",
       "      <td>9780439785969</td>\n",
       "      <td>eng</td>\n",
       "      <td>652</td>\n",
       "      <td>2095690</td>\n",
       "      <td>27591</td>\n",
       "      <td>2006-09-16</td>\n",
       "      <td>Scholastic Inc.</td>\n",
       "      <td>July 16, 2005</td>\n",
       "      <td>Paperback</td>\n",
       "      <td>Scholastic Inc</td>\n",
       "      <td>4.57</td>\n",
       "      <td>4405980.0</td>\n",
       "    </tr>\n",
       "    <tr>\n",
       "      <th>1</th>\n",
       "      <td>2</td>\n",
       "      <td>Harry Potter and the Order of the Phoenix (Har...</td>\n",
       "      <td>J.K. Rowling/Mary GrandPré</td>\n",
       "      <td>4.49</td>\n",
       "      <td>0439358078</td>\n",
       "      <td>9780439358071</td>\n",
       "      <td>eng</td>\n",
       "      <td>870</td>\n",
       "      <td>2153167</td>\n",
       "      <td>29221</td>\n",
       "      <td>2004-09-01</td>\n",
       "      <td>Scholastic Inc.</td>\n",
       "      <td>June 21, 2003</td>\n",
       "      <td>Paperback</td>\n",
       "      <td>Scholastic Inc.</td>\n",
       "      <td>4.50</td>\n",
       "      <td>4518536.0</td>\n",
       "    </tr>\n",
       "    <tr>\n",
       "      <th>2</th>\n",
       "      <td>4</td>\n",
       "      <td>Harry Potter and the Chamber of Secrets (Harry...</td>\n",
       "      <td>J.K. Rowling</td>\n",
       "      <td>4.42</td>\n",
       "      <td>0439554896</td>\n",
       "      <td>9780439554893</td>\n",
       "      <td>eng</td>\n",
       "      <td>352</td>\n",
       "      <td>6333</td>\n",
       "      <td>244</td>\n",
       "      <td>2003-11-01</td>\n",
       "      <td>Scholastic</td>\n",
       "      <td>July 2, 1998</td>\n",
       "      <td>Hardcover</td>\n",
       "      <td>NaN</td>\n",
       "      <td>4.05</td>\n",
       "      <td>7469.0</td>\n",
       "    </tr>\n",
       "    <tr>\n",
       "      <th>3</th>\n",
       "      <td>5</td>\n",
       "      <td>Harry Potter and the Prisoner of Azkaban (Harr...</td>\n",
       "      <td>J.K. Rowling/Mary GrandPré</td>\n",
       "      <td>4.56</td>\n",
       "      <td>043965548X</td>\n",
       "      <td>9780439655484</td>\n",
       "      <td>eng</td>\n",
       "      <td>435</td>\n",
       "      <td>2339585</td>\n",
       "      <td>36325</td>\n",
       "      <td>2004-05-01</td>\n",
       "      <td>Scholastic Inc.</td>\n",
       "      <td>July 8, 1999</td>\n",
       "      <td>Mass Market Paperback</td>\n",
       "      <td>Scholastic Inc.</td>\n",
       "      <td>4.57</td>\n",
       "      <td>5223956.0</td>\n",
       "    </tr>\n",
       "    <tr>\n",
       "      <th>4</th>\n",
       "      <td>8</td>\n",
       "      <td>Harry Potter Boxed Set  Books 1-5 (Harry Potte...</td>\n",
       "      <td>J.K. Rowling/Mary GrandPré</td>\n",
       "      <td>4.78</td>\n",
       "      <td>0439682584</td>\n",
       "      <td>9780439682589</td>\n",
       "      <td>eng</td>\n",
       "      <td>2690</td>\n",
       "      <td>41428</td>\n",
       "      <td>164</td>\n",
       "      <td>2004-09-13</td>\n",
       "      <td>Scholastic</td>\n",
       "      <td>October 1, 2003</td>\n",
       "      <td>Paperback</td>\n",
       "      <td>Scholastic</td>\n",
       "      <td>4.72</td>\n",
       "      <td>172736.0</td>\n",
       "    </tr>\n",
       "  </tbody>\n",
       "</table>\n",
       "</div>"
      ],
      "text/plain": [
       "   bookID                                              title  \\\n",
       "0       1  Harry Potter and the Half-Blood Prince (Harry ...   \n",
       "1       2  Harry Potter and the Order of the Phoenix (Har...   \n",
       "2       4  Harry Potter and the Chamber of Secrets (Harry...   \n",
       "3       5  Harry Potter and the Prisoner of Azkaban (Harr...   \n",
       "4       8  Harry Potter Boxed Set  Books 1-5 (Harry Potte...   \n",
       "\n",
       "                      authors  average_rating        isbn         isbn13  \\\n",
       "0  J.K. Rowling/Mary GrandPré            4.57  0439785960  9780439785969   \n",
       "1  J.K. Rowling/Mary GrandPré            4.49  0439358078  9780439358071   \n",
       "2                J.K. Rowling            4.42  0439554896  9780439554893   \n",
       "3  J.K. Rowling/Mary GrandPré            4.56  043965548X  9780439655484   \n",
       "4  J.K. Rowling/Mary GrandPré            4.78  0439682584  9780439682589   \n",
       "\n",
       "  language_code  num_pages  ratings_count  text_reviews_count  \\\n",
       "0           eng        652        2095690               27591   \n",
       "1           eng        870        2153167               29221   \n",
       "2           eng        352           6333                 244   \n",
       "3           eng        435        2339585               36325   \n",
       "4           eng       2690          41428                 164   \n",
       "\n",
       "  publication_date        publisher  first_published            book_format  \\\n",
       "0       2006-09-16  Scholastic Inc.    July 16, 2005              Paperback   \n",
       "1       2004-09-01  Scholastic Inc.    June 21, 2003              Paperback   \n",
       "2       2003-11-01       Scholastic     July 2, 1998              Hardcover   \n",
       "3       2004-05-01  Scholastic Inc.     July 8, 1999  Mass Market Paperback   \n",
       "4       2004-09-13       Scholastic  October 1, 2003              Paperback   \n",
       "\n",
       "     new_publisher  edition_avgRating  added_toShelves  \n",
       "0   Scholastic Inc               4.57        4405980.0  \n",
       "1  Scholastic Inc.               4.50        4518536.0  \n",
       "2              NaN               4.05           7469.0  \n",
       "3  Scholastic Inc.               4.57        5223956.0  \n",
       "4       Scholastic               4.72         172736.0  "
      ]
     },
     "execution_count": 60,
     "metadata": {},
     "output_type": "execute_result"
    }
   ],
   "source": [
    "df_scraped.head()"
   ]
  },
  {
   "cell_type": "code",
   "execution_count": 61,
   "metadata": {},
   "outputs": [
    {
     "data": {
      "text/html": [
       "<div>\n",
       "<style scoped>\n",
       "    .dataframe tbody tr th:only-of-type {\n",
       "        vertical-align: middle;\n",
       "    }\n",
       "\n",
       "    .dataframe tbody tr th {\n",
       "        vertical-align: top;\n",
       "    }\n",
       "\n",
       "    .dataframe thead th {\n",
       "        text-align: right;\n",
       "    }\n",
       "</style>\n",
       "<table border=\"1\" class=\"dataframe\">\n",
       "  <thead>\n",
       "    <tr style=\"text-align: right;\">\n",
       "      <th></th>\n",
       "      <th>bookID</th>\n",
       "      <th>title</th>\n",
       "      <th>authors</th>\n",
       "      <th>average_rating</th>\n",
       "      <th>isbn</th>\n",
       "      <th>isbn13</th>\n",
       "      <th>language_code</th>\n",
       "      <th>num_pages</th>\n",
       "      <th>ratings_count</th>\n",
       "      <th>text_reviews_count</th>\n",
       "      <th>publication_date</th>\n",
       "      <th>publisher</th>\n",
       "      <th>first_published</th>\n",
       "      <th>book_format</th>\n",
       "      <th>new_publisher</th>\n",
       "      <th>edition_avgRating</th>\n",
       "      <th>added_toShelves</th>\n",
       "    </tr>\n",
       "  </thead>\n",
       "  <tbody>\n",
       "    <tr>\n",
       "      <th>11122</th>\n",
       "      <td>45631</td>\n",
       "      <td>Expelled from Eden: A William T. Vollmann Reader</td>\n",
       "      <td>William T. Vollmann/Larry McCaffery/Michael He...</td>\n",
       "      <td>4.06</td>\n",
       "      <td>1560254416</td>\n",
       "      <td>9781560254416</td>\n",
       "      <td>eng</td>\n",
       "      <td>512</td>\n",
       "      <td>156</td>\n",
       "      <td>20</td>\n",
       "      <td>2004-12-21</td>\n",
       "      <td>Da Capo Press</td>\n",
       "      <td>December 1, 2004</td>\n",
       "      <td>Paperback</td>\n",
       "      <td>Da Capo Press</td>\n",
       "      <td>4.06</td>\n",
       "      <td>552.0</td>\n",
       "    </tr>\n",
       "    <tr>\n",
       "      <th>11123</th>\n",
       "      <td>45633</td>\n",
       "      <td>You Bright and Risen Angels</td>\n",
       "      <td>William T. Vollmann</td>\n",
       "      <td>4.08</td>\n",
       "      <td>0140110879</td>\n",
       "      <td>9780140110876</td>\n",
       "      <td>eng</td>\n",
       "      <td>635</td>\n",
       "      <td>783</td>\n",
       "      <td>56</td>\n",
       "      <td>1988-12-01</td>\n",
       "      <td>Penguin Books</td>\n",
       "      <td>June 27, 1987</td>\n",
       "      <td>Paperback</td>\n",
       "      <td>Penguin Books</td>\n",
       "      <td>4.04</td>\n",
       "      <td>4269.0</td>\n",
       "    </tr>\n",
       "    <tr>\n",
       "      <th>11124</th>\n",
       "      <td>45634</td>\n",
       "      <td>The Ice-Shirt (Seven Dreams #1)</td>\n",
       "      <td>William T. Vollmann</td>\n",
       "      <td>3.96</td>\n",
       "      <td>0140131965</td>\n",
       "      <td>9780140131963</td>\n",
       "      <td>eng</td>\n",
       "      <td>415</td>\n",
       "      <td>820</td>\n",
       "      <td>95</td>\n",
       "      <td>1993-08-01</td>\n",
       "      <td>Penguin Books</td>\n",
       "      <td>January 1, 1990</td>\n",
       "      <td>Paperback</td>\n",
       "      <td>Penguin Publishing Group</td>\n",
       "      <td>3.98</td>\n",
       "      <td>4686.0</td>\n",
       "    </tr>\n",
       "    <tr>\n",
       "      <th>11125</th>\n",
       "      <td>45639</td>\n",
       "      <td>Poor People</td>\n",
       "      <td>William T. Vollmann</td>\n",
       "      <td>3.72</td>\n",
       "      <td>0060878827</td>\n",
       "      <td>9780060878825</td>\n",
       "      <td>eng</td>\n",
       "      <td>434</td>\n",
       "      <td>769</td>\n",
       "      <td>139</td>\n",
       "      <td>2007-02-27</td>\n",
       "      <td>Ecco</td>\n",
       "      <td>January 1, 2007</td>\n",
       "      <td>Hardcover</td>\n",
       "      <td>Ecco</td>\n",
       "      <td>3.75</td>\n",
       "      <td>2948.0</td>\n",
       "    </tr>\n",
       "    <tr>\n",
       "      <th>11126</th>\n",
       "      <td>45641</td>\n",
       "      <td>Las aventuras de Tom Sawyer</td>\n",
       "      <td>Mark Twain</td>\n",
       "      <td>3.91</td>\n",
       "      <td>8497646983</td>\n",
       "      <td>9788497646987</td>\n",
       "      <td>spa</td>\n",
       "      <td>272</td>\n",
       "      <td>113</td>\n",
       "      <td>12</td>\n",
       "      <td>2006-05-28</td>\n",
       "      <td>Edimat Libros</td>\n",
       "      <td>June 1, 1876</td>\n",
       "      <td>Paperback</td>\n",
       "      <td>NaN</td>\n",
       "      <td>3.72</td>\n",
       "      <td>228.0</td>\n",
       "    </tr>\n",
       "  </tbody>\n",
       "</table>\n",
       "</div>"
      ],
      "text/plain": [
       "       bookID                                             title  \\\n",
       "11122   45631  Expelled from Eden: A William T. Vollmann Reader   \n",
       "11123   45633                       You Bright and Risen Angels   \n",
       "11124   45634                   The Ice-Shirt (Seven Dreams #1)   \n",
       "11125   45639                                       Poor People   \n",
       "11126   45641                       Las aventuras de Tom Sawyer   \n",
       "\n",
       "                                                 authors  average_rating  \\\n",
       "11122  William T. Vollmann/Larry McCaffery/Michael He...            4.06   \n",
       "11123                                William T. Vollmann            4.08   \n",
       "11124                                William T. Vollmann            3.96   \n",
       "11125                                William T. Vollmann            3.72   \n",
       "11126                                         Mark Twain            3.91   \n",
       "\n",
       "             isbn         isbn13 language_code  num_pages  ratings_count  \\\n",
       "11122  1560254416  9781560254416           eng        512            156   \n",
       "11123  0140110879  9780140110876           eng        635            783   \n",
       "11124  0140131965  9780140131963           eng        415            820   \n",
       "11125  0060878827  9780060878825           eng        434            769   \n",
       "11126  8497646983  9788497646987           spa        272            113   \n",
       "\n",
       "       text_reviews_count publication_date      publisher   first_published  \\\n",
       "11122                  20       2004-12-21  Da Capo Press  December 1, 2004   \n",
       "11123                  56       1988-12-01  Penguin Books     June 27, 1987   \n",
       "11124                  95       1993-08-01  Penguin Books   January 1, 1990   \n",
       "11125                 139       2007-02-27           Ecco   January 1, 2007   \n",
       "11126                  12       2006-05-28  Edimat Libros      June 1, 1876   \n",
       "\n",
       "      book_format             new_publisher  edition_avgRating  \\\n",
       "11122   Paperback             Da Capo Press               4.06   \n",
       "11123   Paperback             Penguin Books               4.04   \n",
       "11124   Paperback  Penguin Publishing Group               3.98   \n",
       "11125   Hardcover                      Ecco               3.75   \n",
       "11126   Paperback                       NaN               3.72   \n",
       "\n",
       "       added_toShelves  \n",
       "11122            552.0  \n",
       "11123           4269.0  \n",
       "11124           4686.0  \n",
       "11125           2948.0  \n",
       "11126            228.0  "
      ]
     },
     "execution_count": 61,
     "metadata": {},
     "output_type": "execute_result"
    }
   ],
   "source": [
    "df_scraped.tail()"
   ]
  },
  {
   "cell_type": "code",
   "execution_count": 3,
   "metadata": {},
   "outputs": [
    {
     "name": "stdout",
     "output_type": "stream",
     "text": [
      "<class 'pandas.core.frame.DataFrame'>\n",
      "RangeIndex: 11127 entries, 0 to 11126\n",
      "Data columns (total 17 columns):\n",
      " #   Column              Non-Null Count  Dtype  \n",
      "---  ------              --------------  -----  \n",
      " 0   bookID              11127 non-null  int64  \n",
      " 1   title               11127 non-null  object \n",
      " 2   authors             11127 non-null  object \n",
      " 3   average_rating      11127 non-null  float64\n",
      " 4   isbn                11127 non-null  object \n",
      " 5   isbn13              11127 non-null  int64  \n",
      " 6   language_code       11127 non-null  object \n",
      " 7   num_pages           11127 non-null  int64  \n",
      " 8   ratings_count       11127 non-null  int64  \n",
      " 9   text_reviews_count  11127 non-null  int64  \n",
      " 10  publication_date    11127 non-null  object \n",
      " 11  publisher           11127 non-null  object \n",
      " 12  first_published     11125 non-null  object \n",
      " 13  book_format         11126 non-null  object \n",
      " 14  new_publisher       8360 non-null   object \n",
      " 15  edition_avgRating   11124 non-null  float64\n",
      " 16  added_toShelves     11124 non-null  float64\n",
      "dtypes: float64(3), int64(5), object(9)\n",
      "memory usage: 1.4+ MB\n"
     ]
    }
   ],
   "source": [
    "df_scraped.info()"
   ]
  },
  {
   "cell_type": "markdown",
   "metadata": {},
   "source": [
    "### Fill Missing Data"
   ]
  },
  {
   "cell_type": "markdown",
   "metadata": {},
   "source": [
    "In the new dataset, there is 2 missing data in the first_published, 1 missing value in the book_format, 3 missing values in the edition_avgRating and added_toShelves. These were values that the scraper failed to get. Since they are very few, they will be filled manually. \n",
    "\n",
    "For the new_publisher, the scraper failed to get a lot of values, this is because of how the publisher is saved in the html. Due to constraint of time, and since there is already a publisher column in the original dataset. In the cases where there are NaN the old publisher will be put. The new publisher will be taken, only in the cases where the new publisher is different from the old publisher in value."
   ]
  },
  {
   "cell_type": "code",
   "execution_count": 55,
   "metadata": {},
   "outputs": [
    {
     "data": {
      "text/html": [
       "<div>\n",
       "<style scoped>\n",
       "    .dataframe tbody tr th:only-of-type {\n",
       "        vertical-align: middle;\n",
       "    }\n",
       "\n",
       "    .dataframe tbody tr th {\n",
       "        vertical-align: top;\n",
       "    }\n",
       "\n",
       "    .dataframe thead th {\n",
       "        text-align: right;\n",
       "    }\n",
       "</style>\n",
       "<table border=\"1\" class=\"dataframe\">\n",
       "  <thead>\n",
       "    <tr style=\"text-align: right;\">\n",
       "      <th></th>\n",
       "      <th>bookID</th>\n",
       "      <th>title</th>\n",
       "      <th>authors</th>\n",
       "      <th>average_rating</th>\n",
       "      <th>isbn</th>\n",
       "      <th>isbn13</th>\n",
       "      <th>language_code</th>\n",
       "      <th>num_pages</th>\n",
       "      <th>ratings_count</th>\n",
       "      <th>text_reviews_count</th>\n",
       "      <th>publication_date</th>\n",
       "      <th>publisher</th>\n",
       "      <th>first_published</th>\n",
       "      <th>book_format</th>\n",
       "      <th>new_publisher</th>\n",
       "      <th>edition_avgRating</th>\n",
       "      <th>added_toShelves</th>\n",
       "      <th>first_author</th>\n",
       "      <th>num_contributors</th>\n",
       "    </tr>\n",
       "  </thead>\n",
       "  <tbody>\n",
       "    <tr>\n",
       "      <th>2255</th>\n",
       "      <td>8077</td>\n",
       "      <td>animales no se visten los animals should defin...</td>\n",
       "      <td>judi barrettron barrett</td>\n",
       "      <td>4.11</td>\n",
       "      <td>1595191356</td>\n",
       "      <td>9781595191359</td>\n",
       "      <td>eng</td>\n",
       "      <td>32</td>\n",
       "      <td>0</td>\n",
       "      <td>0</td>\n",
       "      <td>1991-10-30</td>\n",
       "      <td>live oak media</td>\n",
       "      <td>january 1, 1970</td>\n",
       "      <td>paperback</td>\n",
       "      <td>atheneum books for young readers</td>\n",
       "      <td>NaN</td>\n",
       "      <td>NaN</td>\n",
       "      <td>judi barrett</td>\n",
       "      <td>2</td>\n",
       "    </tr>\n",
       "    <tr>\n",
       "      <th>6396</th>\n",
       "      <td>24062</td>\n",
       "      <td>the deep dive trilogy</td>\n",
       "      <td>gordon korman</td>\n",
       "      <td>3.78</td>\n",
       "      <td>0613674839</td>\n",
       "      <td>9780613674836</td>\n",
       "      <td>eng</td>\n",
       "      <td>148</td>\n",
       "      <td>0</td>\n",
       "      <td>0</td>\n",
       "      <td>2003-07-01</td>\n",
       "      <td>turtleback</td>\n",
       "      <td>NaN</td>\n",
       "      <td>NaN</td>\n",
       "      <td>NaN</td>\n",
       "      <td>NaN</td>\n",
       "      <td>NaN</td>\n",
       "      <td>gordon korman</td>\n",
       "      <td>1</td>\n",
       "    </tr>\n",
       "    <tr>\n",
       "      <th>8476</th>\n",
       "      <td>32552</td>\n",
       "      <td>essential tales and poems</td>\n",
       "      <td>edgar allan poebenjamin f fisher</td>\n",
       "      <td>4.36</td>\n",
       "      <td>1593080646</td>\n",
       "      <td>9781593080648</td>\n",
       "      <td>en-us</td>\n",
       "      <td>688</td>\n",
       "      <td>66382</td>\n",
       "      <td>109</td>\n",
       "      <td>2004-10-25</td>\n",
       "      <td>barnes  noble</td>\n",
       "      <td>NaN</td>\n",
       "      <td>paperback</td>\n",
       "      <td>barnes &amp; noble classics</td>\n",
       "      <td>4.36</td>\n",
       "      <td>92622.0</td>\n",
       "      <td>edgar allan poe</td>\n",
       "      <td>2</td>\n",
       "    </tr>\n",
       "    <tr>\n",
       "      <th>8520</th>\n",
       "      <td>32703</td>\n",
       "      <td>the diary of ellen rimbauer my life at rose red</td>\n",
       "      <td>joyce reardonsteven rimbauerridley pearson</td>\n",
       "      <td>3.67</td>\n",
       "      <td>0786890436</td>\n",
       "      <td>9780786890439</td>\n",
       "      <td>eng</td>\n",
       "      <td>277</td>\n",
       "      <td>7852</td>\n",
       "      <td>352</td>\n",
       "      <td>2001-04-29</td>\n",
       "      <td>hyperion</td>\n",
       "      <td>january 1, 2001</td>\n",
       "      <td>mass market paperback</td>\n",
       "      <td>hyperion</td>\n",
       "      <td>NaN</td>\n",
       "      <td>NaN</td>\n",
       "      <td>joyce reardon</td>\n",
       "      <td>3</td>\n",
       "    </tr>\n",
       "  </tbody>\n",
       "</table>\n",
       "</div>"
      ],
      "text/plain": [
       "      bookID                                              title  \\\n",
       "2255    8077  animales no se visten los animals should defin...   \n",
       "6396   24062                              the deep dive trilogy   \n",
       "8476   32552                          essential tales and poems   \n",
       "8520   32703    the diary of ellen rimbauer my life at rose red   \n",
       "\n",
       "                                         authors  average_rating        isbn  \\\n",
       "2255                     judi barrettron barrett            4.11  1595191356   \n",
       "6396                               gordon korman            3.78  0613674839   \n",
       "8476            edgar allan poebenjamin f fisher            4.36  1593080646   \n",
       "8520  joyce reardonsteven rimbauerridley pearson            3.67  0786890436   \n",
       "\n",
       "             isbn13 language_code  num_pages  ratings_count  \\\n",
       "2255  9781595191359           eng         32              0   \n",
       "6396  9780613674836           eng        148              0   \n",
       "8476  9781593080648         en-us        688          66382   \n",
       "8520  9780786890439           eng        277           7852   \n",
       "\n",
       "      text_reviews_count publication_date       publisher  first_published  \\\n",
       "2255                   0       1991-10-30  live oak media  january 1, 1970   \n",
       "6396                   0       2003-07-01     turtleback               NaN   \n",
       "8476                 109       2004-10-25  barnes  noble               NaN   \n",
       "8520                 352       2001-04-29        hyperion  january 1, 2001   \n",
       "\n",
       "                book_format                     new_publisher  \\\n",
       "2255              paperback  atheneum books for young readers   \n",
       "6396                    NaN                               NaN   \n",
       "8476              paperback           barnes & noble classics   \n",
       "8520  mass market paperback                          hyperion   \n",
       "\n",
       "      edition_avgRating  added_toShelves     first_author  num_contributors  \n",
       "2255                NaN              NaN     judi barrett                 2  \n",
       "6396                NaN              NaN    gordon korman                 1  \n",
       "8476               4.36          92622.0  edgar allan poe                 2  \n",
       "8520                NaN              NaN    joyce reardon                 3  "
      ]
     },
     "execution_count": 55,
     "metadata": {},
     "output_type": "execute_result"
    }
   ],
   "source": [
    "df_scraped[df_scraped[[\"first_published\", \"book_format\", \"edition_avgRating\", \"added_toShelves\"]].isna().any(axis=1)]"
   ]
  },
  {
   "cell_type": "code",
   "execution_count": 58,
   "metadata": {},
   "outputs": [],
   "source": [
    "df_scraped.loc[2255, [\"edition_avgRating\", \"added_toShelve\"]] = [4.11, 5402]\n",
    "# df_scraped.loc[6396, [\"first_published\", \"book_format\", \"new_publisher\", \"edition_avgRating\", \"added_toShelve\"]] ### !!!! Couldn'y find exact book edition online !!!!\n",
    "df_scraped.loc[8476, [\"first_published\"]] = [\"January 1, 1843\"]\n",
    "df_scraped.loc[8520, [\"edition_avgRating\", \"added_toShelve\"]] = [3.7, 15942]"
   ]
  },
  {
   "cell_type": "markdown",
   "metadata": {},
   "source": [
    "One of the books at index 6396 was not found on good reads even when searching by book ID, isbn and isbn13. Therefore, the edition_avgRating will be the same as the average_rating. added_toShelves will be equal to the mean of the added_toShelves of the other editions of the book; if other editions are not found the added_toShelves will be equal to the mode of the books having same ratings_count and text_reviews_count. The first_published will be the same as the publication_date and the book_format will be the mode of the books of approximately the same size. "
   ]
  },
  {
   "cell_type": "markdown",
   "metadata": {},
   "source": [
    "--- Kheirie --- \n",
    "\n",
    "**NOTE**\n",
    "\n",
    "to continue as per the noted above: \n",
    "- combine publisher and new_publisher\n",
    "- fill the NaN of book at index 6396\n",
    "\n",
    "The below parts work properly, they only need to adapted on the updated df_scraped after doing the two above points\n",
    "\n",
    "-----------------------"
   ]
  },
  {
   "cell_type": "markdown",
   "metadata": {},
   "source": [
    "### Set text columns to lower text"
   ]
  },
  {
   "cell_type": "markdown",
   "metadata": {},
   "source": [
    "When dealing with text data it always safer to have them all in the same case either lower or upper "
   ]
  },
  {
   "cell_type": "code",
   "execution_count": 6,
   "metadata": {},
   "outputs": [],
   "source": [
    "# get the text columns\n",
    "text_columns = df_scraped.select_dtypes(include=['object']).columns\n",
    "\n",
    "# Convert to lowercase\n",
    "df_scraped = to_lower(df_scraped, text_columns)"
   ]
  },
  {
   "cell_type": "code",
   "execution_count": 7,
   "metadata": {},
   "outputs": [
    {
     "data": {
      "text/html": [
       "<div>\n",
       "<style scoped>\n",
       "    .dataframe tbody tr th:only-of-type {\n",
       "        vertical-align: middle;\n",
       "    }\n",
       "\n",
       "    .dataframe tbody tr th {\n",
       "        vertical-align: top;\n",
       "    }\n",
       "\n",
       "    .dataframe thead th {\n",
       "        text-align: right;\n",
       "    }\n",
       "</style>\n",
       "<table border=\"1\" class=\"dataframe\">\n",
       "  <thead>\n",
       "    <tr style=\"text-align: right;\">\n",
       "      <th></th>\n",
       "      <th>bookID</th>\n",
       "      <th>title</th>\n",
       "      <th>authors</th>\n",
       "      <th>average_rating</th>\n",
       "      <th>isbn</th>\n",
       "      <th>isbn13</th>\n",
       "      <th>language_code</th>\n",
       "      <th>num_pages</th>\n",
       "      <th>ratings_count</th>\n",
       "      <th>text_reviews_count</th>\n",
       "      <th>publication_date</th>\n",
       "      <th>publisher</th>\n",
       "      <th>first_published</th>\n",
       "      <th>book_format</th>\n",
       "      <th>new_publisher</th>\n",
       "      <th>edition_avgRating</th>\n",
       "      <th>added_toShelves</th>\n",
       "    </tr>\n",
       "  </thead>\n",
       "  <tbody>\n",
       "    <tr>\n",
       "      <th>1270</th>\n",
       "      <td>4398</td>\n",
       "      <td>cliffsnotes on steinbeck's the grapes of wrath</td>\n",
       "      <td>kelly mcgrath vlcek/cliffsnotes/john steinbeck</td>\n",
       "      <td>3.81</td>\n",
       "      <td>0764585967</td>\n",
       "      <td>9780764585968</td>\n",
       "      <td>eng</td>\n",
       "      <td>112</td>\n",
       "      <td>30</td>\n",
       "      <td>5</td>\n",
       "      <td>2000-06-05</td>\n",
       "      <td>cliffs notes</td>\n",
       "      <td>june 5, 2000</td>\n",
       "      <td>paperback</td>\n",
       "      <td>cliffs notes</td>\n",
       "      <td>3.77</td>\n",
       "      <td>79.0</td>\n",
       "    </tr>\n",
       "    <tr>\n",
       "      <th>7907</th>\n",
       "      <td>30352</td>\n",
       "      <td>led astray (hellraisers  #1)</td>\n",
       "      <td>erin st. claire/sandra brown</td>\n",
       "      <td>3.76</td>\n",
       "      <td>0778321584</td>\n",
       "      <td>9780778321583</td>\n",
       "      <td>eng</td>\n",
       "      <td>240</td>\n",
       "      <td>2647</td>\n",
       "      <td>143</td>\n",
       "      <td>2005-02-22</td>\n",
       "      <td>mira books</td>\n",
       "      <td>october 1, 1985</td>\n",
       "      <td>hardcover</td>\n",
       "      <td>mira</td>\n",
       "      <td>3.71</td>\n",
       "      <td>5712.0</td>\n",
       "    </tr>\n",
       "    <tr>\n",
       "      <th>1295</th>\n",
       "      <td>4524</td>\n",
       "      <td>the shadow of the wind</td>\n",
       "      <td>carlos ruiz zafón/lucia graves</td>\n",
       "      <td>4.26</td>\n",
       "      <td>0753819317</td>\n",
       "      <td>9780753819319</td>\n",
       "      <td>eng</td>\n",
       "      <td>403</td>\n",
       "      <td>1278</td>\n",
       "      <td>175</td>\n",
       "      <td>2004-10-28</td>\n",
       "      <td>phoenix</td>\n",
       "      <td>may 1, 2001</td>\n",
       "      <td>paperback</td>\n",
       "      <td>NaN</td>\n",
       "      <td>4.10</td>\n",
       "      <td>2257.0</td>\n",
       "    </tr>\n",
       "    <tr>\n",
       "      <th>8457</th>\n",
       "      <td>32506</td>\n",
       "      <td>the poet (jack mcevoy  #1; harry bosch univers...</td>\n",
       "      <td>michael connelly</td>\n",
       "      <td>4.20</td>\n",
       "      <td>0446690457</td>\n",
       "      <td>9780446690454</td>\n",
       "      <td>eng</td>\n",
       "      <td>510</td>\n",
       "      <td>64309</td>\n",
       "      <td>2025</td>\n",
       "      <td>2002-07-01</td>\n",
       "      <td>grand central publishing</td>\n",
       "      <td>january 28, 1996</td>\n",
       "      <td>paperback</td>\n",
       "      <td>grand central publishing</td>\n",
       "      <td>4.20</td>\n",
       "      <td>127064.0</td>\n",
       "    </tr>\n",
       "    <tr>\n",
       "      <th>7342</th>\n",
       "      <td>28272</td>\n",
       "      <td>legacy of the darksword (the darksword  #4)</td>\n",
       "      <td>margaret weis/tracy hickman</td>\n",
       "      <td>3.47</td>\n",
       "      <td>055357812x</td>\n",
       "      <td>9780553578126</td>\n",
       "      <td>eng</td>\n",
       "      <td>400</td>\n",
       "      <td>138</td>\n",
       "      <td>4</td>\n",
       "      <td>1998-06-01</td>\n",
       "      <td>spectra</td>\n",
       "      <td>july 1, 1997</td>\n",
       "      <td>mass market paperback</td>\n",
       "      <td>NaN</td>\n",
       "      <td>3.52</td>\n",
       "      <td>478.0</td>\n",
       "    </tr>\n",
       "  </tbody>\n",
       "</table>\n",
       "</div>"
      ],
      "text/plain": [
       "      bookID                                              title  \\\n",
       "1270    4398     cliffsnotes on steinbeck's the grapes of wrath   \n",
       "7907   30352                       led astray (hellraisers  #1)   \n",
       "1295    4524                             the shadow of the wind   \n",
       "8457   32506  the poet (jack mcevoy  #1; harry bosch univers...   \n",
       "7342   28272        legacy of the darksword (the darksword  #4)   \n",
       "\n",
       "                                             authors  average_rating  \\\n",
       "1270  kelly mcgrath vlcek/cliffsnotes/john steinbeck            3.81   \n",
       "7907                    erin st. claire/sandra brown            3.76   \n",
       "1295                  carlos ruiz zafón/lucia graves            4.26   \n",
       "8457                                michael connelly            4.20   \n",
       "7342                     margaret weis/tracy hickman            3.47   \n",
       "\n",
       "            isbn         isbn13 language_code  num_pages  ratings_count  \\\n",
       "1270  0764585967  9780764585968           eng        112             30   \n",
       "7907  0778321584  9780778321583           eng        240           2647   \n",
       "1295  0753819317  9780753819319           eng        403           1278   \n",
       "8457  0446690457  9780446690454           eng        510          64309   \n",
       "7342  055357812x  9780553578126           eng        400            138   \n",
       "\n",
       "      text_reviews_count publication_date                 publisher  \\\n",
       "1270                   5       2000-06-05              cliffs notes   \n",
       "7907                 143       2005-02-22                mira books   \n",
       "1295                 175       2004-10-28                   phoenix   \n",
       "8457                2025       2002-07-01  grand central publishing   \n",
       "7342                   4       1998-06-01                   spectra   \n",
       "\n",
       "       first_published            book_format             new_publisher  \\\n",
       "1270      june 5, 2000              paperback              cliffs notes   \n",
       "7907   october 1, 1985              hardcover                      mira   \n",
       "1295       may 1, 2001              paperback                       NaN   \n",
       "8457  january 28, 1996              paperback  grand central publishing   \n",
       "7342      july 1, 1997  mass market paperback                       NaN   \n",
       "\n",
       "      edition_avgRating  added_toShelves  \n",
       "1270               3.77             79.0  \n",
       "7907               3.71           5712.0  \n",
       "1295               4.10           2257.0  \n",
       "8457               4.20         127064.0  \n",
       "7342               3.52            478.0  "
      ]
     },
     "execution_count": 7,
     "metadata": {},
     "output_type": "execute_result"
    }
   ],
   "source": [
    "df_scraped.sample(5)"
   ]
  },
  {
   "cell_type": "markdown",
   "metadata": {},
   "source": [
    "### Take First Author Name and Create num_contributors Column"
   ]
  },
  {
   "cell_type": "markdown",
   "metadata": {},
   "source": [
    "We have decided to take only the name of the first author, since usually first authors are the main authors. Another column will be added to indicate the total number of authors/contributors to the book."
   ]
  },
  {
   "cell_type": "code",
   "execution_count": 8,
   "metadata": {},
   "outputs": [],
   "source": [
    "# take the first author in the authors column\n",
    "df_scraped[\"first_author\"] = df_scraped[\"authors\"].apply(lambda x: x.split(\"/\")[0].strip())\n"
   ]
  },
  {
   "cell_type": "code",
   "execution_count": 9,
   "metadata": {},
   "outputs": [
    {
     "data": {
      "text/plain": [
       "1156        ruth prawer jhabvala\n",
       "10031       edgar rice burroughs\n",
       "6594              bill watterson\n",
       "8994              lester del rey\n",
       "2274     barbara taylor bradford\n",
       "Name: first_author, dtype: object"
      ]
     },
     "execution_count": 9,
     "metadata": {},
     "output_type": "execute_result"
    }
   ],
   "source": [
    "df_scraped[\"first_author\"].sample(5)"
   ]
  },
  {
   "cell_type": "code",
   "execution_count": 10,
   "metadata": {},
   "outputs": [],
   "source": [
    "df_scraped[\"num_contributors\"] = df_scraped[\"authors\"].apply(lambda x: len(x.split(\"/\")))"
   ]
  },
  {
   "cell_type": "code",
   "execution_count": 12,
   "metadata": {},
   "outputs": [
    {
     "data": {
      "text/html": [
       "<div>\n",
       "<style scoped>\n",
       "    .dataframe tbody tr th:only-of-type {\n",
       "        vertical-align: middle;\n",
       "    }\n",
       "\n",
       "    .dataframe tbody tr th {\n",
       "        vertical-align: top;\n",
       "    }\n",
       "\n",
       "    .dataframe thead th {\n",
       "        text-align: right;\n",
       "    }\n",
       "</style>\n",
       "<table border=\"1\" class=\"dataframe\">\n",
       "  <thead>\n",
       "    <tr style=\"text-align: right;\">\n",
       "      <th></th>\n",
       "      <th>authors</th>\n",
       "      <th>num_contributors</th>\n",
       "    </tr>\n",
       "  </thead>\n",
       "  <tbody>\n",
       "    <tr>\n",
       "      <th>3288</th>\n",
       "      <td>paul bowles/francine prose</td>\n",
       "      <td>2</td>\n",
       "    </tr>\n",
       "    <tr>\n",
       "      <th>9065</th>\n",
       "      <td>michael munn</td>\n",
       "      <td>1</td>\n",
       "    </tr>\n",
       "    <tr>\n",
       "      <th>5055</th>\n",
       "      <td>georg wilhelm friedrich hegel/james black baillie</td>\n",
       "      <td>2</td>\n",
       "    </tr>\n",
       "    <tr>\n",
       "      <th>6277</th>\n",
       "      <td>rumiko takahashi</td>\n",
       "      <td>1</td>\n",
       "    </tr>\n",
       "    <tr>\n",
       "      <th>3994</th>\n",
       "      <td>philip k. dick/john brunner</td>\n",
       "      <td>2</td>\n",
       "    </tr>\n",
       "  </tbody>\n",
       "</table>\n",
       "</div>"
      ],
      "text/plain": [
       "                                                authors  num_contributors\n",
       "3288                         paul bowles/francine prose                 2\n",
       "9065                                       michael munn                 1\n",
       "5055  georg wilhelm friedrich hegel/james black baillie                 2\n",
       "6277                                   rumiko takahashi                 1\n",
       "3994                        philip k. dick/john brunner                 2"
      ]
     },
     "execution_count": 12,
     "metadata": {},
     "output_type": "execute_result"
    }
   ],
   "source": [
    "df_scraped[[\"authors\",\"num_contributors\"]].sample(5)"
   ]
  },
  {
   "cell_type": "markdown",
   "metadata": {},
   "source": [
    "### Clean Text Columns"
   ]
  },
  {
   "cell_type": "markdown",
   "metadata": {},
   "source": [
    "Remove punctuation, and extra white spaces from all text columns.\n",
    "\n",
    "Better clean the text in publisher column, to avoid having same publishers represented differently. \n",
    "Example: indexes 5993, 5365 and 9753, W.W. Norton & Company, W. W. Norton and Company and W. W. Norton  Company represent the same publisher"
   ]
  },
  {
   "cell_type": "code",
   "execution_count": 28,
   "metadata": {},
   "outputs": [],
   "source": [
    "general_replacements = [\n",
    "    (r'[^\\w\\s]', ''), # remove punctuation\n",
    "    (r'\\s\\s+', \" \"), # remove double spaces and more   \n",
    "]\n",
    "\n",
    "columns_ = [\"title\", \"first_author\"]\n",
    "\n",
    "df_scraped = sub_text(df_scraped, columns_, general_replacements)"
   ]
  },
  {
   "cell_type": "code",
   "execution_count": 49,
   "metadata": {},
   "outputs": [
    {
     "data": {
      "text/html": [
       "<div>\n",
       "<style scoped>\n",
       "    .dataframe tbody tr th:only-of-type {\n",
       "        vertical-align: middle;\n",
       "    }\n",
       "\n",
       "    .dataframe tbody tr th {\n",
       "        vertical-align: top;\n",
       "    }\n",
       "\n",
       "    .dataframe thead th {\n",
       "        text-align: right;\n",
       "    }\n",
       "</style>\n",
       "<table border=\"1\" class=\"dataframe\">\n",
       "  <thead>\n",
       "    <tr style=\"text-align: right;\">\n",
       "      <th></th>\n",
       "      <th>title</th>\n",
       "      <th>first_author</th>\n",
       "    </tr>\n",
       "  </thead>\n",
       "  <tbody>\n",
       "    <tr>\n",
       "      <th>6476</th>\n",
       "      <td>his dark materials trilogy northern lights the...</td>\n",
       "      <td>philip pullman</td>\n",
       "    </tr>\n",
       "    <tr>\n",
       "      <th>6990</th>\n",
       "      <td>seven gothic tales</td>\n",
       "      <td>isak dinesen</td>\n",
       "    </tr>\n",
       "    <tr>\n",
       "      <th>9803</th>\n",
       "      <td>brand new justice how branding places and prod...</td>\n",
       "      <td>simon anholt</td>\n",
       "    </tr>\n",
       "    <tr>\n",
       "      <th>6253</th>\n",
       "      <td>the perfect london walk</td>\n",
       "      <td>roger ebert</td>\n",
       "    </tr>\n",
       "    <tr>\n",
       "      <th>5227</th>\n",
       "      <td>the poet the warrior the prophet</td>\n",
       "      <td>rubem a alves</td>\n",
       "    </tr>\n",
       "  </tbody>\n",
       "</table>\n",
       "</div>"
      ],
      "text/plain": [
       "                                                  title    first_author\n",
       "6476  his dark materials trilogy northern lights the...  philip pullman\n",
       "6990                                 seven gothic tales    isak dinesen\n",
       "9803  brand new justice how branding places and prod...    simon anholt\n",
       "6253                            the perfect london walk     roger ebert\n",
       "5227                   the poet the warrior the prophet   rubem a alves"
      ]
     },
     "execution_count": 49,
     "metadata": {},
     "output_type": "execute_result"
    }
   ],
   "source": [
    "df_scraped[[\"title\", \"first_author\"]].sample(5)"
   ]
  },
  {
   "cell_type": "code",
   "execution_count": 52,
   "metadata": {},
   "outputs": [],
   "source": [
    "specific_replacements = [\n",
    "    (\"inc.\", \"\"),\n",
    "    (\"llc\", \"\"),\n",
    "    (\"ltd\", \"\"),\n",
    "    (\"w. w.\", \"ww\"), \n",
    "    (\"&\", \" and \"),\n",
    "    (r'\\bbooks?\\b', \"\"),  \n",
    "    (r'\\bclassics?\\b', \"\"),\n",
    "    (r'\\bpublishers?\\b', \"\"),\n",
    "    (r'\\bpress\\b', \"\"),\n",
    "    (r'\\bpublishing\\b', \"\")\n",
    "]\n",
    "\n",
    "df_scraped = sub_text(df_scraped, [\"publisher\"], specific_replacements)"
   ]
  }
 ],
 "metadata": {
  "kernelspec": {
   "display_name": "book-rating_prediction",
   "language": "python",
   "name": "python3"
  },
  "language_info": {
   "codemirror_mode": {
    "name": "ipython",
    "version": 3
   },
   "file_extension": ".py",
   "mimetype": "text/x-python",
   "name": "python",
   "nbconvert_exporter": "python",
   "pygments_lexer": "ipython3",
   "version": "3.10.13"
  }
 },
 "nbformat": 4,
 "nbformat_minor": 2
}
